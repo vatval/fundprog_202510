{
  "nbformat": 4,
  "nbformat_minor": 0,
  "metadata": {
    "colab": {
      "provenance": [],
      "authorship_tag": "ABX9TyNnBU0IbP7yhC4CuGjJHRBI",
      "include_colab_link": true
    },
    "kernelspec": {
      "name": "python3",
      "display_name": "Python 3"
    },
    "language_info": {
      "name": "python"
    }
  },
  "cells": [
    {
      "cell_type": "markdown",
      "metadata": {
        "id": "view-in-github",
        "colab_type": "text"
      },
      "source": [
        "<a href=\"https://colab.research.google.com/github/vatval/fundprog_202510/blob/main/Ejercicios_Pseudoc%C3%B3digo(G).ipynb\" target=\"_parent\"><img src=\"https://colab.research.google.com/assets/colab-badge.svg\" alt=\"Open In Colab\"/></a>"
      ]
    },
    {
      "cell_type": "markdown",
      "source": [
        "# Codigos en Pseudocódigo\n",
        "\n",
        "\n",
        "**integrantes**\n",
        "\n",
        "* Danna Montalvo Hernández: 000576375\n",
        "\n",
        "* Valery Agresott Torrenegra:\n",
        " 000574797\n",
        "\n",
        "* Yadiel Lopez Hernández:\n",
        " 000576591\n",
        "\n",
        "* Samuel Hernández: 000571565\n"
      ],
      "metadata": {
        "id": "8lIBTKRB_3pw"
      }
    },
    {
      "cell_type": "markdown",
      "source": [
        "\n",
        "# 1. Información Personal\n",
        "\n",
        "Diseña un programa que muestre la siguiente información:\n",
        "Tu nombre\n",
        "Tu dirección, con ciudad, estado y código postal\n",
        "Tu número de teléfono\n",
        "Tu especialización universitaria\n",
        "\n",
        "```\n",
        "program profile\n",
        "\n",
        "start\n",
        "  declare string name\n",
        "  declare string address\n",
        "  declare string city\n",
        "  declare real phone_number\n",
        "  declare string specialization\n",
        "\n",
        "  display \"ingrese su nombre\"\n",
        "  input name\n",
        "  display \"ingrese su dirección\"\n",
        "  input address\n",
        "  display \"ingrese su ciudad de recidencia\"\n",
        "  input city\n",
        "  display \"ingrese su telefono\"\n",
        "  input phone_number\n",
        "  display \"ingrese su especializacion universitaria\"\n",
        "  input specialization\n",
        "  set datos= name + str(address) + city + phone_number+ specializacion\n",
        " display \"su informacion: \", datos\n",
        "end\n",
        "\n",
        "```\n"
      ],
      "metadata": {
        "id": "S1WxCUveK8gv"
      }
    },
    {
      "cell_type": "code",
      "source": [
        "#Creamos 5 variables que almacenan la informacion del usario\n",
        "#Con un mensaje para el usuario para saber\n",
        "name=  input(\"ingrese su nombre \")\n",
        "address = input(\"ingrese su dirección \")\n",
        "city = input(\"ingrese su ciudad de recidencia \")\n",
        "phone_number = input(\"ingrese su telefono \")\n",
        "specialization = input(\"ingrese su especializacion universitaria\")\n",
        "#Aqui creamos una variable que exprese los datos ingresados por el usuario\n",
        "datos= name + str(address) + city + phone_number + specialization\n",
        "print (datos)"
      ],
      "metadata": {
        "id": "mvFQzP0RavgS"
      },
      "execution_count": null,
      "outputs": []
    },
    {
      "cell_type": "markdown",
      "source": [
        "#2. Predicción de Ventas\n",
        "\n",
        "\n",
        " Una empresa ha determinado que su beneficio anual es típicamente el 23% de las ventas totales. Diseña un programa que pida al usuario ingresar la cantidad proyectada de ventas totales y luego muestre el beneficio que se obtendrá de esa cantidad. Pista: Usa el valor 0.23 para representar el 23%`\n",
        "\n",
        "```\n",
        "program earnings\n",
        "\n",
        "start\n",
        "  declare real v_totales\n",
        "  declare real ganancias\n",
        "  display \"ingrese las ventas totales\"\n",
        "  input v_totales\n",
        "  set ganacias=v_totales*0.23\n",
        "  display \"el beneficio que se obtendrá de esa cantidad\", ganancias\n",
        "end\n",
        "\n",
        "```"
      ],
      "metadata": {
        "id": "-gHP2lMZSyHM"
      }
    },
    {
      "cell_type": "code",
      "source": [
        "#Creamos una variables que almacenen el valor de las ventas totales\n",
        "v_totales=input(\"ingrese las ventas totales\")\n",
        "#creamos una vareable que saque el porcentaje\n",
        "ganancias=v_totales*0.23\n",
        "#mostramos el resultado\n",
        "print (ganancias)"
      ],
      "metadata": {
        "id": "94xYgkUdbJgw"
      },
      "execution_count": null,
      "outputs": []
    },
    {
      "cell_type": "markdown",
      "source": [
        "#3. Cálculo de Terreno\n",
        "Un acre de terreno es equivalente a 43,560 pies cuadrados. Diseña un programa que pida al usuario ingresar la cantidad total de pies cuadrados en un terreno y calcule el número de acres en el terreno. Pista: Divide la cantidad ingresada por 43,560 para obtener el número de acres.\n",
        "\n",
        "```\n",
        "program total_terreno\n",
        "start\n",
        "  declare real cantidad_pies\n",
        "  declare real total_pies\n",
        "  contant integrer acre = 43560\n",
        "  display \"ingrese la cantidad de pies de su terreno\"\n",
        "  input cantidad_pies\n",
        "  set total_pies=cantidad_pies/acre\n",
        "  display \"la cantidad total de pies de su terreno es : \" , total_pies\n",
        "\n",
        "end\n",
        "```"
      ],
      "metadata": {
        "id": "4_KM3IrjYy_w"
      }
    },
    {
      "cell_type": "code",
      "source": [
        "#creamos una variable que almacenara la cantidad de pies en un terreno\n",
        "cantidad_pies = input(\"ingrese la cantidad de pies de su terreno \")\n",
        "#creamos una variable con un valor definido\n",
        "acre = 43560\n",
        "#usamos otra una variable para realizar el proceso adecuado\n",
        "#definimos cantidad_pies como real y lo dividimos por 43560 que es acre\n",
        "total_pies = float(cantidad_pies) / acre\n",
        "#usamos el print para mostrar el resultado\n",
        "print(\"la cantidad total de pies de su terreno es :\", total_pies)\n",
        "\n",
        "\n",
        "\n"
      ],
      "metadata": {
        "colab": {
          "base_uri": "https://localhost:8080/"
        },
        "id": "n1QqAbbAbYo0",
        "outputId": "85de53d0-9553-4a82-8d09-065c62cb2829"
      },
      "execution_count": null,
      "outputs": [
        {
          "output_type": "stream",
          "name": "stdout",
          "text": [
            "ingrese la cantidad de pies de su terreno 34\n",
            "la cantidad total de pies de su terreno es : 0.0007805325987144169\n"
          ]
        }
      ]
    },
    {
      "cell_type": "markdown",
      "source": [
        "#4. Compra Total\n",
        "Un cliente en una tienda está comprando cinco artículos.\n",
        "Diseña un programa que pida el precio de cada artículo, y luego muestre el subtotal de la venta, la cantidad del impuesto de venta y el total. Asume que el impuesto de venta es del 6%.\n",
        "\n",
        "```\n",
        "program articulos\n",
        "start\n",
        " declare real item1\n",
        " declare real item2\n",
        " declare real item3\n",
        " declare real item4\n",
        " declare real item5\n",
        "\n",
        " display \"valor del articulo 1\"\n",
        " input item1\n",
        " display \"valor del articulo 2\"\n",
        " input item2\n",
        " display \"valor del articulo 3\"\n",
        " input intem3\n",
        " display \"valor del articulo 4\"\n",
        " input item4\n",
        " display \"valor del articulo 5\"\n",
        " input item5\n",
        "\n",
        " set subtotal1 = (item1*0.06)\n",
        " set subtotal2 = (item2*0.06)\n",
        " set subtotal3 = (item3*0.06)\n",
        " set subtotal4 = (item4*0.06)\n",
        " set subtotal5 = (item5*0.06)\n",
        "\n",
        " set total= item1+ item2+ item3 + item4 +item5\n",
        "\n",
        " set t_impuesto=total+subtotal1+subtotal2+subtotal3+subtotal4+subtotal5\n",
        "\n",
        "\n",
        " display \"el impuesto de articulo 1 corresponde\" , subtotal1\n",
        " display \"el impuesto de articulo 2 corresponde\" , subtotal2\n",
        " display \"el impuesto de articulo 3 corresponde\" , subtotal3\n",
        " display \"el impuesto de articulo 4 corresponde\" , subtotal4\n",
        " display \"el impuesto de articulo 5 corresponde\" , subtotal5\n",
        " display \"total de la venta sin impuesto\", total\n",
        " display \"el total incluyendo el impuesto\" , t_impuesto\n",
        "end\n",
        "```\n"
      ],
      "metadata": {
        "id": "tFdVnFbdjNDu"
      }
    },
    {
      "cell_type": "code",
      "source": [
        "#creamos 5 vareables que permitan almacenar los valores para cada articulo\n",
        "item1=input(\"valor del articulo 1\")\n",
        "item2=input(\"valor del articulo 2\")\n",
        "item3=input(\"valor del articulo 3\")\n",
        "item4=input(\"valor del articulo 4\")\n",
        "item5=input(\"valor del articulo 5\")\n",
        "#creamos otras 5 vareables para que saquen\n",
        "# el valor del impuesto de cada articulo\n",
        "subtotal1=(item1*0.06)\n",
        "subtotal2=(item2*0.06)\n",
        "subtotal3=(item3*0.06)\n",
        "subtotal4=(item4*0.06)\n",
        "subtotal5=(item5*0.06)\n",
        "#creamos una vareable que sume el valor de cada articulo\n",
        "total=item1+item2+item3+item4+item5\n",
        "#En una variable sumamos los impuestos mas\n",
        "#el total del valor de los articulos\n",
        "t_impuesto=total+subtotal1+subtotal2+subtotal3+subtotal4+subtotal5\n",
        "# mostramos los resusltados\n",
        "print(\"el valor del subtotal del articulo 1\" , subtotal1)\n",
        "print(\"el valor del subtotal del articulo 2\" , subtotal2)\n",
        "print(\"el valor del subtotal del articulo 3\" , subtotal3)\n",
        "print(\"el valor del subtotal del articulo 4\" , subtotal4)\n",
        "print(\"el valor del subtotal del articulo 5\" , subtotal5)\n",
        "\n"
      ],
      "metadata": {
        "id": "C2GLT3-SeYSn"
      },
      "execution_count": null,
      "outputs": []
    },
    {
      "cell_type": "markdown",
      "source": [
        "#5. Distancia Recorrida\n",
        "\n",
        "Asumiendo que no hay accidentes ni retrasos, la distancia que un automóvil recorre por la autopista se puede calcular con la siguiente fórmula: Distancia = Velocidad × Tiempo.\n",
        "Un automóvil viaja a 60 millas por hora.\n",
        "Diseña un programa que muestre lo siguiente:\n",
        "La distancia que el automóvil recorrerá en 5 horas\n",
        "La distancia que el automóvil recorrerá en 8 horasLa distancia que el automóvil recorrerá en 12 horas\n",
        "\n",
        "```\n",
        "program distancia\n",
        "\n",
        "start\n",
        "  declare int velocidad\n",
        "  declare real dist1\n",
        "  declare real dist2\n",
        "  declare real dist3\n",
        "\n",
        " velocidad=60\n",
        " set dist1=velocidad*5\n",
        " display \"distancia recorrida en 5 horas:\", dist1 \"millas recorridas\"\n",
        " set dist2=velocidad*8\n",
        " display \"distancia recorrida en 8 horas:\", dist2 \"millas recorridas\"\n",
        " set dist3=velocidad*12\n",
        " display \"distancia recorrida en 12 horas:\", dist3 \"millas recorridas\"\n",
        "end\n",
        "\n",
        "\n",
        "\n",
        "```\n"
      ],
      "metadata": {
        "id": "-l3oMAiFdbzT"
      }
    },
    {
      "cell_type": "code",
      "source": [
        "#creamos una vareable que guarde la distancia que ingrese el usuario\n",
        "dist=input(\"ingrese la distancia recorrida\")\n",
        "#a la variable velocidad de asignamos un valor\n",
        "velocidad=60\n",
        "#de acuerdo con la formula hacemos un proceso dentro de unas vareable\n",
        "#donde cada una calcula la velocidad para distintas horas\n",
        "#Y vamos mostrando con el print los resultados\n",
        "dist1=velocidad*5\n",
        "print(\"distancia recorrida en 5 horas:\", dist1, \"millas recorridas\")\n",
        "dist2=velocidad*8\n",
        "print(\"distancia recorrida en 8 horas:\", dist2, \"millas recorridas\")\n",
        "dist3=velocidad*12\n",
        "print(\"distancia recorrida en 12 horas:\", dist3, \"millas recorridas\")\n"
      ],
      "metadata": {
        "id": "_5V_GBdje3x3"
      },
      "execution_count": null,
      "outputs": []
    },
    {
      "cell_type": "markdown",
      "source": [
        "#6. Impuesto de Venta\n",
        "\n",
        "Diseña un programa que pida al usuario ingresar la cantidad de una compra. El programa debe luego calcular el impuesto de venta estatal y el impuesto de venta del condado. Asume que el impuesto de venta estatal es del 4% y el impuesto de venta del condado es del 2%. El programa debe mostrar la cantidad de la compra, el impuesto de venta estatal, el impuesto de venta del condado, el impuesto de venta total y el total de la venta (que es la suma de la cantidad de la compra más el impuesto de venta total).\n",
        "\n",
        "\n",
        "```\n",
        "program impuestos\n",
        "\n",
        "start\n",
        "\n",
        "  declare real cantidad_compra\n",
        "  declare float impuesto_estatal\n",
        "  declare float impuesto_contado\n",
        "  declare float impuesto_total\n",
        "  declare float venta\n",
        "\n",
        "  display \"ingrese la cantidad de la compra\" , cantidad_compra\n",
        "  input cantidad_compra\n",
        "  set impuesto_estatal=cantidad_compra*0.04\n",
        "  set impuesto_total=impuesto_estatal+impuesto_contado\n",
        "  set venta=cantidad_compra+impuesto_total\n",
        "\n",
        "  display \"valor tatol de su compra es: \", contidad_compra\n",
        "\n",
        "end\n",
        "```\n",
        "\n"
      ],
      "metadata": {
        "id": "sv1eigANqIH4"
      }
    },
    {
      "cell_type": "code",
      "source": [
        "#creamos una variable que almacene la cantidad de la compra\n",
        "cantidad_compra=input(\"ingrese la cantidad de la compra\")\n",
        "#creamos dos vareables que calcularan el 4% y el 2%\n",
        "impuesto_estatal=cantidad_compra*0.04\n",
        "impuesto_contado=cantidad_compra*0.02\n",
        "#sumamos los dos impuestos en una vareable\n",
        "impuesto_total=impuesto_estatal+impuesto_contado\n",
        "#luego se lo sumamos a la cantidad de la compra\n",
        "venta=cantidad_compra+impuesto_total\n",
        "print(\"valor tatol de su compra es: \", venta)"
      ],
      "metadata": {
        "id": "T-FJEkXzfcbe"
      },
      "execution_count": null,
      "outputs": []
    },
    {
      "cell_type": "markdown",
      "source": [
        "#7. Millas por Galón\n",
        "\n",
        "Las millas por galón (MPG) de un automóvil se pueden calcular con la siguiente fórmula: MPG = Millas recorridas / Galones de gasolina usados Diseña un programa que pida al usuario el número de millas recorridas y los galones de gasolina usados.Debe calcular las millas por galón del automóvil y mostrar el resultado en pantalla.\n",
        "\n",
        "\n",
        "```\n",
        "program milla_galones\n",
        "start\n",
        "\n",
        " declare real millas\n",
        " declare real galones\n",
        " display \"ingresar numeros de millas\"\n",
        " input millas\n",
        " display \"ingresar numero de galones usados\"\n",
        " input galones\n",
        " mpg=millas/galones\n",
        " display \"las millas por galon\", mpg\n",
        "\n",
        "end\n",
        "\n",
        "```"
      ],
      "metadata": {
        "id": "yMO-kRuesuDf"
      }
    },
    {
      "cell_type": "code",
      "source": [
        "#creamos una variable para la cantidad de galones que el usuario utilizo\n",
        "galones = input(\"ingresar numero de galones usados\")\n",
        "#creamos una variable para la cantidad de millas recorridas\n",
        "millas = input(\"ingresar numeros de millas\")\n",
        "#con la variable mpg hacemos el calculo\n",
        "mpg = millas / galones\n",
        "#mostramos el resulatdo\n",
        "print(\"las millas por galon\", mpg)"
      ],
      "metadata": {
        "id": "PprEJQ03ghSq"
      },
      "execution_count": null,
      "outputs": []
    },
    {
      "cell_type": "markdown",
      "source": [
        "#8. Propina, Impuesto y Total\n",
        "\n",
        "Diseña un programa que calcule la cantidad total de una comida comprada en un restaurante.El programa debe pedir al usuario que ingrese el costo de la comida, y luego calcular la cantidad de una propina del 15% y un impuesto de venta del 7%. Muestra cada una de estas cantidades y el total.\n",
        "\n",
        "\n",
        "```\n",
        "program v_pagar\n",
        "start\n",
        " declare real pcomida\n",
        " declare real total\n",
        " declare real propina\n",
        " declare real imp\n",
        "\n",
        " display \"ingrese el precio de la comida\"\n",
        " input pcomida\n",
        "\n",
        " set propina=(pcamida*0.15)\n",
        " set imp=(pcomida*0.7)\n",
        " set total=pcomida+ propina+ imp\n",
        "\n",
        " display \"el valor de la propina es:\", propina\n",
        " display \"el valor del impuesto es:\", imp\n",
        " display \"el valor total a pagar es:\" , total\n",
        "\n",
        "end\n",
        "\n",
        "```"
      ],
      "metadata": {
        "id": "NIBmtbmazsbs"
      }
    },
    {
      "cell_type": "code",
      "source": [
        "#creamos una vareable que pertenesca al precio de la comida\n",
        "pcomida=input(\"ingrese el precio de la comida\")\n",
        "#calculamos en una variable el 15% para la propina\n",
        "propina=(pcomida*0.15)\n",
        "imp=(pcomida*0.7)\n",
        "total=pcomida+ propina+ imp\n",
        "print(\"el valor de la propina es:\", propina)\n",
        "print(\"el valor del impuesto es:\", imp)\n",
        "print(\"el valor total a pagar es:\" , total)"
      ],
      "metadata": {
        "id": "tD4GaGvKhBNy"
      },
      "execution_count": null,
      "outputs": []
    },
    {
      "cell_type": "markdown",
      "source": [
        "#9. Convertidor de Temperatura de Celsius a Fahrenheit\n",
        "\n",
        "Diseña un programa que convierta temperaturas de Celsius a Fahrenheit. La fórmula es la siguiente: 𝐹 =9/5 𝐶 + 32 El programa debe pedir al usuario que ingrese una temperatura en Celsius,y luego mostrar la temperatura convertida a Fahrenheit.\n",
        "\n",
        "```\n",
        "program temperatura\n",
        "\n",
        "start\n",
        "\n",
        " declare real celcius\n",
        " declare real fahrenheit\n",
        " constan real fract= 9/5\n",
        " display\"ingrese el valor en celsius: \"\n",
        " input celsius\n",
        " set fahrenheit=fract*celsius + 32\n",
        " display\"el valor en fanrenheit: \", fahrenheit\n",
        "end\n",
        "\n",
        "\n",
        "```"
      ],
      "metadata": {
        "id": "ipEc-0_resuh"
      }
    },
    {
      "cell_type": "code",
      "source": [
        "#convertiremos grados los celsius que ingrese el usuario\n",
        "celsius=input(\"ingrese el valor en celsius\" )\n",
        "#para eso creamos una variable que tenga como valor 9/5\n",
        "fract= 9/5\n",
        "#utilizando la formula, creamos una variable que haga el proceso\n",
        "fahrenheit=fract*celsius + 32\n",
        "#mostramos el resultado\n",
        "print(\"el valor en fanrenheit: \", fahrenheit)\n"
      ],
      "metadata": {
        "id": "v8Sk4ySKhRMY"
      },
      "execution_count": null,
      "outputs": []
    },
    {
      "cell_type": "markdown",
      "source": [
        "#10. Programa de Transacciones de Acciones\n",
        "\n",
        "El mes pasado Joe compró algunas acciones en Acme Software, Inc. Aquí están los detalles de la compra: El número de acciones que Joe compró fue de 1,000.Cuando Joe compró las acciones, pagó $32.87 por acción. Joe pagó a su corredor una comisión que ascendió al 2% de la cantidad que pagó por las acciones.Dos semanas después Joe vendió las acciones. Aquí están los detalles de la venta:\n",
        "\n",
        "\n",
        "```\n",
        "program ganac\n",
        "start\n",
        "\n",
        "  declare conts n_acciones=1000\n",
        "  declare conts acciones_1=32.82\n",
        "  declare conts acciones_2=33.92\n",
        "\n",
        "  set gasto_total1=n_acciones*acciones_1\n",
        "  display \"gasto en la compra de acciones\" , gasto_total1\n",
        "  set gasto_total=n_acciones*acciones_1\n",
        "  display\"gasto en la compra de acciones\",gasto_total1\n",
        "  set p_comision=gasto_total*0.2\n",
        "\n",
        "  display\"ganancia del corredor\",p_comision\n",
        "  set ganancia=n_acciones*acciones_2\n",
        "  display\"ganancia de joe por la venta\",ganancia\n",
        "  set P_comision2=ganancia*0.2\n",
        "  display \"ganancia del correndor\" , P_comision2\n",
        "  \n",
        "end\n",
        "```"
      ],
      "metadata": {
        "id": "_jBojNMx0QGx"
      }
    },
    {
      "cell_type": "code",
      "source": [
        "#creamos tres variables con un valor definido\n",
        "n_acciones=1000\n",
        "acciones_1=32.82\n",
        "acciones_2=33.92\n",
        "#realizamos los debidos procesos y mostramos los resultados\n",
        "gasto_total1=n_acciones*acciones_1\n",
        "print(\"gasto en la compra de acciones\" , gasto_total1)\n",
        "gasto_total=n_acciones*acciones_1\n",
        "print(\"gasto en la compra de acciones\",gasto_total1)\n",
        "p_comision=gasto_total*0.2\n",
        "print(\"ganancia del corredor\",p_comision)\n",
        "ganancia=n_acciones*acciones_2\n",
        "print(\"ganancia de joe por la venta\",ganancia)\n",
        "p_comision2=ganancia*0.2\n",
        "print(\"ganancia del correndor\" , p_comision2)\n"
      ],
      "metadata": {
        "id": "hkLJKmZEhuCb"
      },
      "execution_count": null,
      "outputs": []
    },
    {
      "cell_type": "markdown",
      "source": [
        "#11. Cálculo de la utilidad en el negocio de venta de viviendas remodeladas\n",
        "Diseña un programa que calcule la utilidad (o pérdidas) de un negocio de venta de viviendas remodeladas a partir del precio de compra de la vivienda, los costos de remodelación, el precio de venta y un porcentaje de comisión sobre la venta.\n",
        "\n",
        "```\n",
        "start\n",
        "  declare real compra\n",
        "  declare real costo_remodelación\n",
        "  declare real venta\n",
        "  declare real comision_venta\n",
        "\n",
        "  display \"ingrese el valor de la compra vivienda\"\n",
        "    input compra\n",
        "  display \"ingrese el costo de la remodelación  de la vivienda\"\n",
        "    input costo_remodelacion\n",
        "  display \"ingrese el valor de la venta de la vivienda\"\n",
        "    input venta\n",
        "  display\"ingrese comision de venta\"\n",
        "    input comision_venta\n",
        "\n",
        "  set costo_total=compra+comision_venta\n",
        "  set comision_calculando=comision_venta/100\n",
        "  set porcentaje_comision=compra*comision_calculado\n",
        "  set utilidad=venta-porcentaje_comision\n",
        "  display \"la utilidad de la venta de la viviendas es:\", utilidad\n",
        "end\n",
        "```\n"
      ],
      "metadata": {
        "id": "wiI_Z9Z5guEt"
      }
    },
    {
      "cell_type": "code",
      "source": [
        "#creamos una variable para el valor de la compra de esa vivienda\n",
        "compra=input(\"ingrese el valor de la compra vivienda\")\n",
        "#y una para el costo de la remodelación\n",
        "costo_remodelacion=input(\"ingrese el costo\")\n",
        "venta=input(\"ingrese el valor de la venta de la vivienda\")\n",
        "comision_venta=input(\"ingrese comision de venta\")\n",
        "#despues de tener los datos necesarios\n",
        "#realizamos las operaciones\n",
        "comision_calculado=comision_venta/100\n",
        "porcentaje_comision=compra*comision_calculado\n",
        "utilidad=venta-porcentaje_comision\n",
        "#mostramos los resultados\n",
        "print(\"la utilidad de la venta de la viviendas es:\", utilidad)"
      ],
      "metadata": {
        "id": "wurOYRF9jJAU"
      },
      "execution_count": null,
      "outputs": []
    },
    {
      "cell_type": "markdown",
      "source": [
        "#12. Área de un círculo\n",
        "\n",
        "Diseñe un programa que calcule el área de un círculo a partir del radio ingresado por el usuario.\n",
        "```\n",
        "program area_circ\n",
        "\n",
        " start\n",
        "  declare real total\n",
        "  declare real r\n",
        "  pi=3.1415\n",
        "  display \"ingrese el radio\"\n",
        "  input r\n",
        "  set total= pi*r^2\n",
        "  display \"area del circulo\", total\n",
        " end\n",
        "```\n"
      ],
      "metadata": {
        "id": "HQ4pg7eOopQp"
      }
    },
    {
      "cell_type": "code",
      "source": [
        "#le damos un valor a pi\n",
        "pi=3.1415\n",
        "#le pedimos al usuario que ingrese el radio\n",
        "r=input(\"ingrese el radio\")\n",
        "#creamos una variable para calcular el area\n",
        "total= pi*r^2\n",
        "print(\"area del circulo\", total)"
      ],
      "metadata": {
        "id": "t9l1z5kljpyZ"
      },
      "execution_count": null,
      "outputs": []
    },
    {
      "cell_type": "markdown",
      "source": [
        "#13. Muffins\n",
        "\n",
        "Diseñe un programa que calcule las cantidades necesarias para producir un número de muffins solicitado por el usuario si para producir 10 unidades se necesita: 240 ml de leche, 28 g de harina, 30 g de levadura, 2.5 g de sal, 100 g de azúcar, 2 huevos y 15 g de mantequilla.\n",
        "```\n",
        "program muffins\n",
        "\n",
        "start\n",
        "\n",
        "  declare int n_muffins\n",
        "  declare real levadura\n",
        "  declare real harina\n",
        "  declare real leche\n",
        "  declare real sal\n",
        "  declare real azucar\n",
        "  declare real huevo\n",
        "  declare real mantequilla\n",
        "\n",
        "  display\"Ingrese la cantidad de numeros de muffins: \"\n",
        "  input n_muffins\n",
        "\n",
        "  set levadura = n_muffins * (30/10)\n",
        "  set harina = n_muffins * (280/10)\n",
        "  set leche = n_muffins * (240/10)\n",
        "  set sal = n_muffins * (2.5/10)\n",
        "  set azucar = n_muffins * (100/10)\n",
        "  set huevo = n_muffins * (2/10)\n",
        "  set mantequilla = n_muffins * (15/10)\n",
        "  \n",
        "  display \"Para hacer \",n_muffins,\" muffins sigua la siguiente receta\"\n",
        "  display levadura,\"gramos de levadura\"\n",
        "  display harina,\"gramos de harina\"\n",
        "  display leche,\"ml de leche\"\n",
        "  display sal,\"gramos de sal que necesita\"\n",
        "  display azucar,\"gramos de azucar que necesita\"\n",
        "  display huevo,\"huevos que necesita \"\n",
        "  display mantequilla,\"gramos de mantequilla que necesita\"\n",
        "\n",
        "end\n",
        "```"
      ],
      "metadata": {
        "id": "6gQZSnlAJJyK"
      }
    },
    {
      "cell_type": "code",
      "source": [
        "#creamos una variable para que el usuario ingrese el numero de moffins\n",
        "n_muffins=input(\"Ingrese la cantidad de numeros de muffins:\")\n",
        "print(\"Para hacer \",n_muffins,\" muffins sigua la siguiente receta\")\n",
        "#las siguientes variables calcularan la cantidad de cada ingrediente\n",
        "#para un solo muffin\n",
        "#Y mostraran los gramos, ml o cantidades\n",
        "#que se necesitaran\n",
        "levadura = n_muffins * (30/10)\n",
        "print(levadura,\"gramos de levadura\")\n",
        "harina = n_muffins * (280/10)\n",
        "print(harina,\"gramos de harina\")\n",
        "leche = n_muffins * (240/10)\n",
        "print(leche,\"ml de leche\")\n",
        "sal = n_muffins * (2.5/10)\n",
        "print(sal,\"gramos de sal que necesita\")\n",
        "azucar = n_muffins * (100/10)\n",
        "print(azucar,\"gramos de azucar que necesita\")\n",
        "huevo = n_muffins * (2/10)\n",
        "print(huevo,\"huevos que necesita \")\n",
        "mantequilla = n_muffins * (15/10)\n",
        "print(mantequilla,\"gramos de mantequilla que necesita\")\n"
      ],
      "metadata": {
        "id": "iEvm9Bw-jtpX"
      },
      "execution_count": null,
      "outputs": []
    },
    {
      "cell_type": "markdown",
      "source": [
        "#14. Nota promedio\n",
        "\n",
        "Diseñe un programa que calcule el promedio ponderado de dos notas dados sus pesos y valores\n",
        "\n",
        "```\n",
        "program promed\n",
        "start\n",
        "  declare real nota1\n",
        "  declare real nota2\n",
        "  declare real porj1\n",
        "  declare real porj2\n",
        "  declare real prom\n",
        "  display \"Ingrese su primera nota: \"\n",
        "  input nota1\n",
        "  display \"Ingrese su segunda nota: \"\n",
        "  input nota2\n",
        "  display \"Ingresa el porcentaje de valor de la  primera nota:\"\n",
        "  input porj1\n",
        "  display \"Ingresa el porcentaje de valor de la  segunda nota:\"\n",
        "  input porj2\n",
        "\n",
        "  set nota1 = nota1 * (porj1 / 100)\n",
        "  set nota2 = nota2 * (porj2 / 100)\n",
        "\n",
        "  set prom= nota1 + nota2\n",
        "\n",
        "  display \"El promedio es: \", prom\n",
        "end\n",
        "```"
      ],
      "metadata": {
        "id": "5qJ68p1pJvf7"
      }
    },
    {
      "cell_type": "code",
      "source": [
        "#creamos las variables que almacenaran el valor de las notas\n",
        "nota1=input(\"ingrese su primera nota:\")\n",
        "nota2=input(\"ingrese su segunda nota:\")\n",
        "# Y las que guardaran el valor de porcentaje que tiene esa nota\n",
        "porj1=input(\"ingrese el porcentaje de valor de la primera nota:\")\n",
        "porj2=input(\"ingrese el porcentaje de valor de la segunda nota:\")\n",
        "#ahora las variables calcularan el promedio ponderado\n",
        "nota1 = nota1 * (porj1 / 100)\n",
        "nota2 = nota2 * (porj2 / 100)\n",
        "prom= nota1 + nota2\n",
        "#mostramos el resultado\n",
        "print(\"El promedio es: \", prom)\n"
      ],
      "metadata": {
        "id": "dNjjGaRtjugv"
      },
      "execution_count": null,
      "outputs": []
    },
    {
      "cell_type": "markdown",
      "source": [
        "#15. Cálculo del Salario Neto Descripción\n",
        "\n",
        "Diseña un programa que calcule el salario neto de un empleado después de deducir\n",
        "impuestos. El programa debe solicitar al usuario su salario bruto mensual y el porcentaje de impuestos a aplicar. Luego debe calcular y mostrar el salario neto\n",
        "(salario bruto menos impuestos)\n",
        "```\n",
        "program s_neto\n",
        "\n",
        "star\n",
        "declare real s_bruto\n",
        "declare real p_de_impuestos\n",
        "declare real s_neto\n",
        "display \"ingrese el salario bruto\"\n",
        "input s_bruto\n",
        "display \"ingrese porcentaje de impuestos aplicar\"\n",
        "input p_de_impuestos\n",
        "set s_neto=(s_bruto-p_de_impuestos)\n",
        "display \"el resultado del salario neto\", s_neto\n",
        "end\n",
        "```"
      ],
      "metadata": {
        "id": "_BiFDV9yXSLM"
      }
    },
    {
      "cell_type": "code",
      "source": [
        "#creamos una vareable para el salario bruto\n",
        "s_bruto=input(\"ingrese el salario bruto\")\n",
        "#otra variable para el porcentaje de impuestos\n",
        "p_de_impuestos=input(\"ingrese porcentaje de impuestos aplicar\")\n",
        "#Y calculamos\n",
        "s_neto=(s_bruto-p_de_impuestos)\n",
        "print(\"el resultado del salario neto\", s_neto)"
      ],
      "metadata": {
        "id": "FAAtAkLnkUNF"
      },
      "execution_count": null,
      "outputs": []
    },
    {
      "cell_type": "markdown",
      "source": [
        "#16. Calculadora de Índice de Masa Corporal (IMC)\n",
        "\n",
        "Diseña un programa que solicite al usuario su peso en kilogramos y su altura en metros, y luego calcule y muestre su Índice de Masa Corporal (IMC) usando la fórmula: 𝐼𝑀𝐶 =𝑝𝑒𝑠𝑜/(𝑎𝑙𝑡𝑢𝑟𝑎^2)\n",
        "\n",
        "\n",
        "```\n",
        "program indMcorporal\n",
        " star\n",
        " declare real peso\n",
        " declare real altura\n",
        " declare real corporal\n",
        " display \"ingrese se peso\"\n",
        " input peso\n",
        " display \"ingrese se altura\"\n",
        " input altura\n",
        " corporal= peso /(altura*altura)\n",
        " display \"el indice de masa corporal es: \", corporal\n",
        " end\n",
        "\n",
        "```\n"
      ],
      "metadata": {
        "id": "gJH-NsAOiYf9"
      }
    },
    {
      "cell_type": "code",
      "source": [
        "#Para el indice de masa corporal le pedimos el valor del peso y altura\n",
        "#Al usuario\n",
        "peso=input(\"ingrese se peso\")\n",
        "altura=input(\"ingrese se altura\")\n",
        "#calculamos el indice de masa corporal en una variable\n",
        "corporal= peso /(altura*altura)\n",
        "#Y le mostramos el resultado al usuario\n",
        "print(\"el indice de masa corporal es: \", corporal)"
      ],
      "metadata": {
        "id": "pmM4c8JAkkbl"
      },
      "execution_count": null,
      "outputs": []
    },
    {
      "cell_type": "markdown",
      "source": [
        "#17. Convertidor de Temperatura de Celsius a Fahrenheit\n",
        "\n",
        "Diseña un programa que convierta temperaturas de Celsius a Fahrenheit. La fórmula es la siguiente: 𝐹 =9/5 𝐶 + 32 El programa debe pedir al usuario que ingrese una temperatura en Celsius,y luego mostrar la temperatura convertida a Fahrenheit.\n",
        "\n",
        "```\n",
        "program temperatura\n",
        "\n",
        "star\n",
        "\n",
        "declare real celcius\n",
        "declare real fahrenheit\n",
        "constan real fract= 9/5\n",
        "\n",
        "display\"ingrese el valor en celsius: \"\n",
        "input celsius\n",
        "set fahrenheit=fract*celsius + 32\n",
        "display\"el valor en fanrenheit: \", fahrenheit\n",
        "end\n",
        "\n",
        "\n",
        "```"
      ],
      "metadata": {
        "id": "1Xfp4LzyW48-"
      }
    },
    {
      "cell_type": "code",
      "source": [
        "celsius=input(\"ingrese el valor en celsius\" )\n",
        "fract= 9/5\n",
        "fahrenheit=fract*celsius + 32\n",
        "print(\"el valor en fanrenheit: \", fahrenheit)"
      ],
      "metadata": {
        "id": "v_q6jVIOlnJ8"
      },
      "execution_count": null,
      "outputs": []
    },
    {
      "cell_type": "code",
      "source": [
        "#creamos una variable para que el usuario ingrese la cantidad de años\n",
        "años=input(\"ingrese los años que quiere convertir en dias\")\n",
        "#con esta variable multiplicamos los años por la cantidad de dias\n",
        "total=años * 365\n",
        "#Y asi optenemos el resultado que le mostramos al usuario\n",
        "print(\"años en dias\", total)"
      ],
      "metadata": {
        "id": "PxgGmqsilzEJ"
      },
      "execution_count": null,
      "outputs": []
    },
    {
      "cell_type": "markdown",
      "source": [
        "#19. Cálculo de Intereses Compuestos\n",
        "\n",
        "Diseña un programa que calcule el monto final de una inversión utilizando interés compuesto. El programa debe solicitar al usuario el capital inicial, la tasa de interés anual (en porcentaje), el número de años de la inversión, y la cantidad de veces que el interés se capitaliza por año. Luego, debe calcular y mostrar el monto final utilizando la fórmula:\n",
        "𝑀𝑜𝑛𝑡𝑜 𝐹𝑖𝑛𝑎𝑙 = 𝑐𝑎𝑝𝑖𝑡𝑎𝑙 × (1 +𝑡𝑎𝑠𝑎 𝑛) ^ 𝑛×𝑡𝑖𝑒𝑚𝑝𝑜\n",
        "\n",
        "\n",
        "```\n",
        "Start\n",
        "  Declare real c_inicial\n",
        "  Declare real tmp\n",
        "  Declare real t_interes\n",
        "  Declare real intereses\n",
        "  Declare real m_final\n",
        "\n",
        "  Display \"Ingrese su capital inicial\"\n",
        "  Input c_inicial\n",
        "\n",
        "  Display \"Ingrese la tasa de interes anual en porcentaje\"\n",
        "  Input t_interes\n",
        "\n",
        "  Display \"Ingrese el numero de años que quiere tener la inversión\"\n",
        "  Input tmp\n",
        "\n",
        "  Display \"Ingrese la cantidad de veces que el interes se capitaliza por año\"\n",
        "  Input intereses\n",
        "\n",
        " set m_final= c_inicial* (1+ t_intereses/intereses)^intereses*tmp\n",
        "\n",
        "  Display \"El monto final es:  \", m_final\n",
        "End\n",
        "```"
      ],
      "metadata": {
        "id": "auJ6HcqOToNB"
      }
    },
    {
      "cell_type": "markdown",
      "source": [
        "#18. Cálculo de la Edad en Días\n",
        "\n",
        "Diseña un programa que solicite al usuario su edad en años y luego calcule y muestre su edad en días, asumiendo que un año tiene 365 días. No se considera años bisiestos en este cálculo.\n",
        "```\n",
        "program En_dias\n",
        " star\n",
        "\n",
        " declare real edad_años\n",
        " declare real edad_dias\n",
        " diplay \"ingrese los años\"\n",
        " input años\n",
        " set total= años * 365\n",
        " display \"años en dias\", total\n",
        "\n",
        "end\n",
        "```"
      ],
      "metadata": {
        "id": "YCfzMJKkPlAD"
      }
    },
    {
      "cell_type": "code",
      "source": [
        "c_inicio=input(\"Ingrese su capital inicial\")\n",
        "t_intereses=input(\"Ingrese la tasa de interes anual en porcentaje\")\n",
        "tmp=input(\"Ingrese el numero de años que quiere tener la inversión\")\n",
        "intereses=input(\"Ingrese la cantidad de veces que el interes se capitaliza por año\")\n",
        "m_final= c_inicio* (1+ t_intereses/intereses)^intereses*tmp\n",
        "print(\"El monto final es:  \", m_final)\n"
      ],
      "metadata": {
        "id": "m7xbhkB1mIku"
      },
      "execution_count": null,
      "outputs": []
    },
    {
      "cell_type": "markdown",
      "source": [
        "ejercicio dos"
      ],
      "metadata": {
        "id": "zZsVvVrn52TY"
      }
    },
    {
      "cell_type": "markdown",
      "source": [
        "**integrante**\n",
        "\n",
        "Danna Montalvo Hernández: 000576375-  danna.montalvo@upb.edu.co\n",
        "\n",
        "Valery Agresott Torrenegra: 000574797-  valery.agresott@upb.edu.co\n",
        "\n",
        "Yadiel Lopez Hernández: 000576591-  yadiel.lopez@upb.edu.co"
      ],
      "metadata": {
        "id": "v8Cb6PX8_uO3"
      }
    },
    {
      "cell_type": "code",
      "execution_count": null,
      "metadata": {
        "id": "YnwhmgwmnL0B",
        "colab": {
          "base_uri": "https://localhost:8080/"
        },
        "outputId": "70c2e56e-8c9d-45db-dfbf-77b4a94caf21"
      },
      "outputs": [
        {
          "output_type": "stream",
          "name": "stdout",
          "text": [
            "ingrese los valores para calcular el area de un cilindro\n",
            "ingresar la altura: 4\n",
            "ingresar el radio: 2\n",
            "el area del cilindro : 75.396 m^2 \n",
            "el volumen del cilindro : 50.264m^3\n",
            "ingrese los valores para calcular el area de un ortoedro\n",
            "ingresar el ancho: 10\n",
            "ingresar el largo: 5\n",
            "ingresa la profundidad: 2\n",
            "el area del ortoedro : 160.0 m^2 \n",
            "el volumen del ortoedro : 100.0m^3\n"
          ]
        }
      ],
      "source": [
        "\n",
        "#Creamos tres variables\n",
        "#En dos de ellas el usuario puede ingresar un valor y pi ya esta definida\n",
        "print(\"ingrese los valores para calcular el area de un cilindro\")\n",
        "altura=float(input(\"ingresar la altura: \"))\n",
        "pi= 3.1415\n",
        "radio=float(input(\"ingresar el radio: \"))\n",
        "#ahora creamos una variable que realice el calculo del area\n",
        "acilindro=(2*pi*radio*altura) + (2*pi*radio**2)\n",
        "#ahora creamos una vareable que realice el calculo del volumen\n",
        "vcilindro=(pi*radio**2*altura)\n",
        "#mostramos los resultado\n",
        "print(\"el area del cilindro : \" + str(acilindro) + \" m^2 \")\n",
        "print(\"el volumen del cilindro : \" + str(vcilindro) + \"m^3\")\n",
        "#Creamos tres variables\n",
        "#En en tres de ellas el usuario puede ingresar un valor\n",
        "print(\"ingrese los valores para calcular el area de un ortoedro\")\n",
        "ancho=float(input(\"ingresar el ancho: \"))\n",
        "largo=float(input(\"ingresar el largo: \"))\n",
        "profud=float(input(\"ingresa la profundidad: \"))\n",
        "#ahora creamos una variable que realice el calculo del area del ortoedro\n",
        "aortoedro=2*((largo*ancho)+(largo*profud)+(ancho*profud))\n",
        "#ahora creamos una vareable que realice el calculo del volumen ortoedro\n",
        "vortoedro=largo*ancho*profud\n",
        "print(\"el area del ortoedro : \" + str(aortoedro) + \" m^2 \")\n",
        "print(\"el volumen del ortoedro : \" + str(vortoedro) + \"m^3\")\n",
        "\n",
        "\n"
      ]
    },
    {
      "cell_type": "markdown",
      "source": [
        "ejercicio uno"
      ],
      "metadata": {
        "id": "roytmIEublhg"
      }
    },
    {
      "cell_type": "code",
      "source": [
        "name= input(\"ingrese su nombre \")\n",
        "age=input(\"ingrese su edad \")\n",
        "place=input(\"ingrese su lugar de recidencia \")\n",
        "email=input(\"ingrese su email \")\n",
        "phone=input(\"ingrese su telefono \")\n",
        "perfil= name, str(age), place, email , str(phone)\n",
        "print (perfil)\n",
        "\n"
      ],
      "metadata": {
        "id": "lNOR7FWIinRn",
        "colab": {
          "base_uri": "https://localhost:8080/"
        },
        "outputId": "7011327b-db18-488b-b601-df545569f463"
      },
      "execution_count": null,
      "outputs": [
        {
          "output_type": "stream",
          "name": "stdout",
          "text": [
            "ingrese su nombre val\n",
            "ingrese su edad a\n",
            "ingrese su lugar de recidencia l\n",
            "ingrese su email rtyuilkjhv\n",
            "ingrese su telefono asdfg\n",
            "('val', 'a', 'l', 'rtyuilkjhv', 'asdfg')\n"
          ]
        }
      ]
    }
  ]
}