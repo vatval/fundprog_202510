{
  "cells": [
    {
      "cell_type": "markdown",
      "metadata": {
        "id": "view-in-github",
        "colab_type": "text"
      },
      "source": [
        "<a href=\"https://colab.research.google.com/github/vatval/fundprog_202510/blob/main/Copia_de_Bucles.ipynb\" target=\"_parent\"><img src=\"https://colab.research.google.com/assets/colab-badge.svg\" alt=\"Open In Colab\"/></a>"
      ]
    },
    {
      "cell_type": "code",
      "source": [
        "lista1=[]\n",
        "lista2=[]\n",
        "print(\"\\n numeros de la primera lista\")\n",
        "\n",
        "entrada=\"\"\n",
        "while entrada != \"fin\" :\n",
        "  entrada = input(\"ingrese un numero o fin para terminar la lista:\")\n",
        "  if entrada != \"fin\":\n",
        "    num= True\n",
        "    for caracter in entrada:\n",
        "      if caracter not in \"0123456789.-\":\n",
        "        num=False\n",
        "        break\n",
        "    if  num:\n",
        "      lista1.append(float(entrada))\n",
        "    else:\n",
        "      print(\"No es un numero valido\")\n",
        "print(\"\\n Numeros de la segunda lista: \")\n",
        "entrada=\"\"\n",
        "while entrada != \"fin\" :\n",
        "  entrada=input(\"\\n ingrese un numero o fin para terminar la lista: \")\n",
        "  if entrada != \"fin\":\n",
        "    num=True\n",
        "    for caracter in entrada:\n",
        "      if caracter not in \"0123456789.-\":\n",
        "        num=False\n",
        "        break\n",
        "    if  num:\n",
        "      lista2.append(float(entrada))\n",
        "    else:\n",
        "      print(\"no es valido\")\n",
        "suma1=0\n",
        "for num1 in lista1:\n",
        "  suma1+=num1\n",
        "suma2 = 0\n",
        "for num2 in lista2:\n",
        "  suma2+=num2\n",
        "\n",
        "  if suma1>suma2:\n",
        "    print(\"la lista 1 tine la mayor suma\")\n",
        "  elif suma2>suma1:\n",
        "    print(\"la lista 2 tine la mayor suma\")\n",
        "  else:\n",
        "    print(\"las dos listas tienen la misma suma\")\n",
        "\n",
        "print(\"\\nresultados:\")\n",
        "print(\"suma de la primera lista:\", suma1)\n",
        "print(\"suma de la segunda lista:\", suma2)\n",
        "\n",
        "\n"
      ],
      "metadata": {
        "id": "OKCRZ0EE-SzC",
        "outputId": "0e9cf35f-fb48-47f9-d78f-771b03f963c5",
        "colab": {
          "base_uri": "https://localhost:8080/"
        }
      },
      "execution_count": null,
      "outputs": [
        {
          "output_type": "stream",
          "name": "stdout",
          "text": [
            "\n",
            " numeros de la primera lista\n",
            "ingrese un numero o fin para terminar la lista:1\n",
            "ingrese un numero o fin para terminar la lista:2\n",
            "ingrese un numero o fin para terminar la lista:3\n",
            "ingrese un numero o fin para terminar la lista:fin\n",
            "\n",
            " Numeros de la segunda lista: \n"
          ]
        }
      ]
    },
    {
      "cell_type": "markdown",
      "source": [
        "# 1. Coleccionista de Insectos\n",
        "\n",
        "Un coleccionista de insectos recoge insectos cada día durante siete días. Diseña un programa que mantenga un total acumulado del número de insectos recogidos durante esos siete días. El ciclo debe pedir el número de insectos recolectados cada día, y al finalizar, el programa debe mostrar el total de insectos recolectados.\n",
        "```\n",
        "Program Coleccionista_insectos\n",
        "\n",
        "Start\n",
        "  Declare int[] dias\n",
        "  Declare int num_insec\n",
        "  Declare int total = 0\n",
        "\n",
        "  Set dias = 1, 2, 3, 4, 5, 6, 7\n",
        "\n",
        "  For int c = 0 To dias -1\n",
        "     Set c += 1\n",
        "     Display \"Ingrese el número de insectos recolectados en el día \" + str(c)+ \": \"\n",
        "     Input num_insec\n",
        "     Set total += num_insec\n",
        "  End For\n",
        "\n",
        "  Display \"El número total de insectos recolectados es:\", total\n",
        "  \n",
        "End\n",
        "```\n"
      ],
      "metadata": {
        "id": "7d-ZMkrMnogV"
      }
    },
    {
      "cell_type": "code",
      "source": [
        "dias = [1, 2, 3, 4, 5, 6, 7] #Lista de los días en que recolectó insectos\n",
        "num_insec = 0 #Número de insectos que recolecta por día\n",
        "total = 0 #Suma de los insectos\n",
        "\n",
        "for c in range(len(dias)):\n",
        "    c += 1\n",
        "    #Pedir el número de insectos recolectados al usuario\n",
        "    num_insec = int(input(\"Ingrese el número de insectos recolectados en el día \" + str(c) + \": \"))\n",
        "    total += num_insec #Sumar los insectos recolectados por cada día\n",
        "print(\"\\nEl número total de insectos recolectados es:\", total) #Mostrar el total de insectos recolectados al usuario"
      ],
      "metadata": {
        "colab": {
          "base_uri": "https://localhost:8080/"
        },
        "id": "xMEgfahPuGOm",
        "outputId": "f901364d-4748-41a1-e8b3-b48ebf1b698f"
      },
      "execution_count": null,
      "outputs": [
        {
          "output_type": "stream",
          "name": "stdout",
          "text": [
            "Ingrese el número de insectos recolectados en el día 1: 4\n",
            "Ingrese el número de insectos recolectados en el día 2: 3\n",
            "Ingrese el número de insectos recolectados en el día 3: 6\n",
            "Ingrese el número de insectos recolectados en el día 4: 7\n",
            "Ingrese el número de insectos recolectados en el día 5: 4\n",
            "Ingrese el número de insectos recolectados en el día 6: 3\n",
            "Ingrese el número de insectos recolectados en el día 7: 2\n",
            "\n",
            "El número total de insectos recolectados es: 29\n"
          ]
        }
      ]
    },
    {
      "cell_type": "markdown",
      "source": [
        "# 2. Calorías Quemadas\n",
        "Corriendo en una cinta específica quemas 3.9 calorías por minuto. Diseña un programa que use un ciclo para mostrar el número de calorías quemadas después de 10 , 15 , 20 , 25 y 30 minutos.\n",
        "```\n",
        "Program Calorias_quemadas\n",
        "\n",
        "Start\n",
        "  Declare const cal_quem = 3.9\n",
        "  Declare float total_cal = 0\n",
        "  Declare int[] mins = [10, 15, 20, 25, 30]\n",
        "\n",
        "  Display \"Programa para saber las calorías quemadas en ciertos intervalos de tiempo\"\n",
        "\n",
        "  For int c = 0 To mins -1\n",
        "     Set total_cal = cal_quem * mins(c)\n",
        "     Display \"Las calorías quemadas luego de\", mins(c), \"minutos son:\" total_cal\n",
        "  End For\n",
        "End\n",
        "\n",
        "```\n",
        "\n"
      ],
      "metadata": {
        "id": "hwT2I4croQXC"
      }
    },
    {
      "cell_type": "code",
      "source": [
        "cal_quem = 3.9 #Calorías quemadas por min\n",
        "total_cal = 0 #Variable para guardar las  calorías quemadas por cada intervalo de tiempo\n",
        "mins = [10, 15, 20, 25, 30] #Lista de los minutos a los cuales se les calculará las calorías por minuto\n",
        "print(\"Programa para saber las calorías quemadas en ciertos intervalos de tiempo\\n\") #Mostrar un texto guía antes del ingreso de los datos\n",
        "\n",
        "for c in range(len(mins)):\n",
        "    total_cal = cal_quem * mins[c] #Calorías consumidas dependiendo el minuto escogido\n",
        "    print(\"Las calorías quemadas luego de\", mins[c], \"minutos son:\", total_cal) #Mostrar las calorías quemadas dependiendo los minutos"
      ],
      "metadata": {
        "id": "4Gd71TXswYnV"
      },
      "execution_count": null,
      "outputs": []
    },
    {
      "cell_type": "markdown",
      "source": [
        "# 3. Análisis de Presupuesto\n",
        "\n",
        "Diseña un programa que pida al usuario ingresar la cantidad de dinero que ha presupuestado para un mes. Luego, en un ciclo, el programa debe pedirle al usuario que ingrese cada uno de sus gatos y mantener un total acumulado. Cuando el ciclo termine, el programa debe mostrar si el usuario se pasó o quedó por debajo de su presupuesto.\n",
        "\n",
        "```\n",
        "Program Analisis_presupuesto\n",
        "Start\n",
        "  Declare float presupuesto\n",
        "  Declare float c_gast\n",
        "  Declare float gastos\n",
        "  Declare float total = 0\n",
        "\n",
        "  Display \"Programa para saber si sus gatos se pasan o quedan por debajo de su presupuesto\"\n",
        "\n",
        "  Display \"Ingrese la cantidad de dinero que tiene presupuestada para el mes\"\n",
        "  Input presupuesto\n",
        "\n",
        "  Display \"Ingrese la cantidad de gastos que tiene\"\n",
        "  Input c_gast\n",
        "\n",
        "  For c = 0 To c_gast -1\n",
        "    Set c += 1\n",
        "    Display \"Ingrese su gasto número\", str[c], \": \"\n",
        "    Input gastos\n",
        "    Set total += gastos\n",
        "  End For\n",
        "\n",
        "  Display \"El total acumulado de sus gastos es:\", total\n",
        "\n",
        "  If total == presupuesto Then\n",
        "    Display \"El total acumulado de sus gastos es igual a su presupuesto\"\n",
        "  Else if total < presupuesto Then\n",
        "    Display \"El total acumulado de sus gastos quedó por debajo de su presupuesto (le alcanza)\"\n",
        "  Else\n",
        "    Display \"El total acumulado de sus gastos pasó a su presupuesto (no le alcanza)\"\n",
        "  End If\n",
        "End\n",
        "```"
      ],
      "metadata": {
        "id": "8O9iI4CAoyBN"
      }
    },
    {
      "cell_type": "code",
      "source": [
        "total = 0\n",
        "#Mostrar un texto guía antes del ingreso de los datos\n",
        "#Pedir al usuario el presupuesto y la cantidad de gastos\n",
        "print(\"Programa para saber si sus gatos se pasan o quedan por debajo de su presupuesto\\n\")\n",
        "#Pedir al usuario el presupuesto\n",
        "presupuesto = float(input(\"Ingrese la cantidad de dinero que tiene presupuestada para el mes: \"))\n",
        "#Pedir al usuario la cantidad de gastos\n",
        "c_gast =  float(input(\"Ingrese la cantidad de gastos que tiene: \"))\n",
        "\n",
        "for c in range(int(c_gast)):\n",
        "    c += 1\n",
        "    #Pedir al usuario los gastos\n",
        "    gastos = float(input(\"Ingrese su gasto número \" + str(c) + \": \"))\n",
        "    total += gastos\n",
        "#Mostrar el total acumulado de los gastos\n",
        "print(\"\\nEl total acumulado de sus gastos es:\", total)\n",
        "#Mostrar si el total acumulado de los gastos es igual al presupuesto\n",
        "\n",
        "if total == presupuesto:\n",
        "    print(\"El total acumulado de sus gastos es igual a su presupuesto\")\n",
        "elif total < presupuesto:\n",
        "#Mostrar si el total acumulado de los gastos es menor al presupuesto\n",
        "    print(\"El total acumulado de sus gastos quedó por debajo de su presupuesto (le alcanza)\")\n",
        "\n",
        "else :\n",
        "#Mostrar si el total acumulado de los gastos es mayor al presupuesto\n",
        "    print(\"El total acumulado de sus gastos pasó a su presupuesto (no le alcanza)\")"
      ],
      "metadata": {
        "id": "Da7i4J--xL2k"
      },
      "execution_count": null,
      "outputs": []
    },
    {
      "cell_type": "markdown",
      "source": [
        "# 4. Suma de Números\n",
        "Diseña un programa con un ciclo que le pida al usuario ingresar una serie de números positivos. El usuario debe ingresar un número negativo para indicar que ha terminado de ingresar números. Después de que se hayan ingresado todos los números positivos, el programa debe mostrar la suma de todos ellos.\n",
        "```\n",
        "Program Suma_numeros\n",
        "Start\n",
        "  Declare float suma = 0\n",
        "  Declare float numero\n",
        "\n",
        "  Display \"Programa para sumar números positivos\"\n",
        "  \n",
        "  Display \"Ingresa un número positivo (si ingresa uno negativo, la suma dará 0 y el programa finalizará): \"\n",
        "  Input numero\n",
        "\n",
        "  While numero >=0\n",
        "    Set suma += numero\n",
        "    Display \"Ingresa un número positivo (o un número negativo para terminar)\"\n",
        "    Input numero\n",
        "  End While\n",
        "\n",
        "  Display \"La suma total de los números ingresados es:\", suma\n",
        "End\n",
        "\n",
        "```"
      ],
      "metadata": {
        "id": "8BWYVjB1pqhL"
      }
    },
    {
      "cell_type": "code",
      "source": [
        "#Inicializar la suma\n",
        "suma = 0\n",
        "#Mostrar un texto guía antes del ingreso de los datos\n",
        "print(\"Programa para sumar números positivos\\n\")\n",
        "#Pedir al usuario un número positivo\n",
        "numero = float(input(\"Ingresa un número positivo (si ingresa uno negativo, la suma dará 0 y el programa finalizará): \"))\n",
        "\n",
        "while numero >= 0:\n",
        "#Sumar los números ingresados por el usuario\n",
        "    suma += numero\n",
        "#Pedir al usuario un número positivo o negativo para finalizar\n",
        "    numero = float(input(\"Ingresa un número positivo (o un número negativo para terminar): \"))\n",
        "#Mostrar la suma total de los números ingresados por el usuario\n",
        "print(\"\\nLa suma total de los números ingresados es:\", suma)"
      ],
      "metadata": {
        "id": "cCNo063lyvy0"
      },
      "execution_count": null,
      "outputs": []
    },
    {
      "cell_type": "markdown",
      "source": [
        "# 5. Aumento de Matrícula\n",
        "En una universidad, la matrícula para un estudiante de tiempo completo es de $6,000 por semestre. Se ha anunciado que la matrícula aumentará un 2% cada año durante los próximos cinco años. Diseña un programa con un ciclo que muestre la matrícula proyectada para los próximos cinco años.\n",
        "```\n",
        "```"
      ],
      "metadata": {
        "id": "xG-4LbvlpyaA"
      }
    },
    {
      "cell_type": "markdown",
      "source": [
        "# 6. Distancia Recorrida\n",
        "\n",
        "La distancia que recorre un vehículo se puede calcular con la siguiente fórmula:\n",
        "\n",
        "- Distancia = Velocidad × Tiempo\n",
        "\n",
        "Por ejemplo, si un tren viaja a 40 millas por hora durante tres horas, la distancia recorrida es de 120 millas. Diseña un programa que le pida al usuario la velocidad de un vehículo (en millas por hora) y cuántas horas ha viajado. Luego debe usar un ciclo para mostrar la distancia recorrida por cada hora de ese período.\n",
        "Ejemplo de salida:\n",
        "\n",
        "- ¿Cuál es la velocidad del vehículo en mph? 40\n",
        "- ¿Cuántas horas ha viajado? 3\n",
        "\n",
        "  Hora | Distancia Recorrida\n",
        "\n",
        "    1 | 40\n",
        "\n",
        "    2 | 80\n",
        "\n",
        "    3 | 120\n",
        "\n",
        "```\n",
        "```\n"
      ],
      "metadata": {
        "id": "uIjrftUZqJDz"
      }
    },
    {
      "cell_type": "markdown",
      "source": [
        "# 7. Promedio de Lluvias\n",
        "\n",
        "Diseña un programa que use ciclos anidados para recolectar datos y calcular el promedio de lluvia durante un período de años. El programa debe primero preguntar cuántos años se quiere evaluar. El ciclo externo se repetirá una vez por cada año. El ciclo interno se repetirá 12 veces, una por\n",
        "cada mes.\n",
        "Cada iteración del ciclo interno debe pedir al usuario los centímetros de lluvia de ese mes. Al finalizar todas las iteraciones, el programa debe mostrar el número total de meses, el total de lluvia en centímetros y el promedio de lluvia por mes para todo el período.\n",
        "\n",
        "```\n",
        "```"
      ],
      "metadata": {
        "id": "dS9NPgDzuDzT"
      }
    },
    {
      "cell_type": "markdown",
      "source": [
        "# 8. Tabla de Celsius a Fahrenheit\n",
        "Diseña un programa que muestre una tabla de las temperaturas en grados Celsius del 0 al 20 y sus equivalentes en Fahrenheit. La fórmula para convertir una temperatura de Celsius a Fahrenheit es:\n",
        "\n",
        "- F = (9/5 * C) + 32\n",
        "\n",
        "donde F es la temperatura en Fahrenheit y C es la temperatura en Celsius. Tu programa debe usar un ciclo para mostrar la tabla.\n",
        "```\n",
        "```"
      ],
      "metadata": {
        "id": "SigCqE21vFRR"
      }
    },
    {
      "cell_type": "markdown",
      "source": [
        "# 9. Centavos por Pago\n",
        "\n",
        "Diseña un programa que calcule la cantidad de dinero que una persona ganaría durante un período de tiempo si su salario es de un centavo el primer día, dos centavos el segundo día, y se duplica cada día. El programa debe pedir al usuario el número de días. Muestra una tabla que muestre cuál fue el salario por cada día y luego muestra el pago total al final del período. El total debe mostrarse en dólares, no en número de centavos.\n",
        "\n",
        "```\n",
        "```\n"
      ],
      "metadata": {
        "id": "1SbROoNuvvsb"
      }
    },
    {
      "cell_type": "markdown",
      "source": [
        "# 10. Mayor y Menor\n",
        "\n",
        "Diseña un programa con un ciclo que permita al usuario ingresar una serie de números. El usuario debe ingresar -99 para señalar el fin de la serie. Después de que se hayan ingresado todos los números, el programa debe mostrar el número más grande y el número más pequeño que se ingresaron.\n",
        "```\n",
        "```\n"
      ],
      "metadata": {
        "id": "8wKQeOxsx1rM"
      }
    },
    {
      "cell_type": "markdown",
      "source": [
        "# 11. Primero y Último\n",
        "\n",
        "Diseña un programa que pida al usuario una serie de nombres (en cualquier orden). Después de que se haya ingresado el último nombre, el programa debe mostrar el nombre que está primero alfabéticamente y el nombre que está último alfabéticamente. Por ejemplo, si el usuario ingresa los nombres Kristin, Joel, Adam, Beth, Zeb, y Chris, el programa debería mostrar Adam y Zeb.\n",
        "```\n",
        "Program alfabetico\n",
        "Start\n",
        "Declare str[] num_nombres\n",
        "Declare int num\n",
        "\n",
        "\n",
        "Display \"escriba el numero de nombres que va a ingresar\"\n",
        "input num\n",
        "\n",
        "Display \"Ingrese su lista de nombres\"\n",
        "input list_nombres\n",
        "\n",
        "list_nombres.sort()\n",
        "\n",
        "display(\"Su primer nombre en orden alfabetico es\",list_nombres[0])\n",
        "display(\"Su ultimo nombre en orden alfabetico es\",list_nombres[-1])\n",
        "\n",
        "\n",
        "End\n",
        "\n",
        "\n",
        "```\n"
      ],
      "metadata": {
        "id": "tnIyYpEkyT-q"
      }
    },
    {
      "cell_type": "code",
      "source": [
        "num_nombres = int(input(\"Ingrese su número de nombres: \"))\n",
        "list_nombres = []\n",
        "\n",
        "for num_nombre in range(num_nombres):\n",
        "    nombre = input(\"Ingrese el nombre: \")\n",
        "    list_nombres.append(nombre)\n",
        "\n",
        "list_nombres.sort()\n",
        "\n",
        "print(\"Su primer nombre en orden alfabético es\", list_nombres[0])\n",
        "print(\"Su último nombre en orden alfabético es\", list_nombres[-1])"
      ],
      "metadata": {
        "colab": {
          "base_uri": "https://localhost:8080/"
        },
        "id": "Mh9TwF474VR5",
        "outputId": "8d22f76a-4c88-4c7f-f8a3-c06352edb449"
      },
      "execution_count": 6,
      "outputs": [
        {
          "output_type": "stream",
          "name": "stdout",
          "text": [
            "Ingrese su número de nombres: 4\n",
            "Ingrese el nombre: d\n",
            "Ingrese el nombre: a\n",
            "Ingrese el nombre: b\n",
            "Ingrese el nombre: c\n",
            "Su primer nombre en orden alfabético es a\n",
            "Su último nombre en orden alfabético es d\n"
          ]
        }
      ]
    },
    {
      "cell_type": "code",
      "source": [
        "nombres = []\n",
        "\n",
        "while True:\n",
        "    nombre = input(\"Ingresa un nombre ( 'fin' para terminar): \")\n",
        "    if nombre == \"fin\":\n",
        "        break\n",
        "    nombres.append(nombre)\n",
        "\n",
        "if nombres:\n",
        "    nombres.sort()\n",
        "    print(\"Primer nombre alfabéticamente ubicado de los nombres ingresados es:\", nombres[0])\n",
        "    print(\"Último nombre alfabéticamente ubicado de los numeros ingresados es:\", nombres[-1])\n",
        "else:\n",
        "    print(\"No ingresaste ningún nombre.\")"
      ],
      "metadata": {
        "colab": {
          "base_uri": "https://localhost:8080/"
        },
        "id": "guNjjzLnzfJl",
        "outputId": "810a6e2f-122b-4a42-86a7-d6735d17f96d"
      },
      "execution_count": 1,
      "outputs": [
        {
          "output_type": "stream",
          "name": "stdout",
          "text": [
            "Ingresa un nombre ( 'fin' para terminar): andrea\n",
            "Ingresa un nombre ( 'fin' para terminar): berta \n",
            "Ingresa un nombre ( 'fin' para terminar): camila \n",
            "Ingresa un nombre ( 'fin' para terminar): fin\n",
            "Primer nombre alfabéticamente: andrea\n",
            "Último nombre alfabéticamente: camila \n"
          ]
        }
      ]
    },
    {
      "cell_type": "markdown",
      "source": [
        "# 12. Cálculo del Factorial de un Número\n",
        "\n",
        "En matemáticas, la notación 𝑛! representa el factorial de un número entero no negativo 𝑛. El factorial de n es el producto de todos los números enteros no negativos desde 1 hasta 𝑛. Por ejemplo:\n",
        "\n",
        "- 7! = 1 × 2 × 3 × 4 × 5 × 6 × 7 = 5040   \n",
        "- 4! = 1 × 2 × 3 × 4 = 24\n",
        "\n",
        "Diseña un programa que pida al usuario que ingrese un número entero no negativo y luego muestre el factorial de ese número.\n",
        "\n",
        "```\n",
        "\n",
        "```"
      ],
      "metadata": {
        "id": "EpqbPX_Xyrwp"
      }
    },
    {
      "cell_type": "markdown",
      "source": [
        "# 13. Generador de Discurso Político\n",
        "\n",
        "Imagina que formas parte de un equipo de campaña que necesita crear discursos políticos rápidamente. Para ello, contarás con una tabla de palabras y frases predefinidas para distintas secciones de un discurso: título, público objetivo, condición social, compromiso político, lucha social, promesa, beneficio populista y cantidad de votos (ver Fig. 1).\n",
        "El programa deberá construir un mensaje político seleccionando aleatoriamente una palabra o frase de cada categoría. El mensaje final debe mostrarse al terminar la ejecución del programa. Se recomienda el uso de listas, ciclos y la función de selección aleatoria para generar el discurso.\n",
        "- **Ejemplo:** “Apreciados amigos con su ayuda\n",
        "venceré la pobreza y promoveré la igualdad de la comunidad.”\n",
        "```\n",
        "Program Discurso_politico\n",
        "Start\n",
        "  Declare str[] titulo = [\"Queridos\",...]\n",
        "  Declare str[] publico_objetivo = [\"compatriotas\",...]\n",
        "  Declare str[] condicion = [\"en mi gobierno\",...]\n",
        "  Declare str[] compromiso = [\"voy a derrotar\",...]\n",
        "  Declare str[] ilusion_de_lucha = [\"la violencia y\",...]\n",
        "  Declare str[] promesa = [\"trabajaré por\",...]\n",
        "  Declare str[] beneficio_populista = [\"la educación\",...]\n",
        "  Declare str[] cantidad_votos = [\"del país.\",...]\n",
        "  Declare str[] discurso = []\n",
        "  Declare str discruso1 = \"\"\n",
        "  Declare str palabras\n",
        "  Declare str idx\n",
        "\n",
        "  discurso.add(titulo)\n",
        "  discurso.add(publico_objetivo)\n",
        "  discurso.add(condicion)\n",
        "  discurso.add(compromiso)\n",
        "  discurso.add(ilusion_de_lucha)\n",
        "  discurso.add(promesa)\n",
        "  discurso.add(beneficio_populista)\n",
        "  discurso.add(cantidad_votos)\n",
        "\n",
        "  For palabras To discurso\n",
        "    Set idx = random.randint(palabras)\n",
        "    Set discurso1 += palabras[idx] + \" \"\n",
        "  End For\n",
        "  \n",
        "  Display discurso1\n",
        "End\n",
        "```"
      ],
      "metadata": {
        "id": "tRyw50PozrRQ"
      }
    },
    {
      "cell_type": "code",
      "source": [
        "import random\n",
        "\n",
        "titulo = [\"Queridos\", \"Apreciados\", \"Distinguidos\", \"Honorables\", \"Estimados\", \"Respetados\"]\n",
        "publico_objetivo = [\"compatriotas\", \"copartidiarios\", \"amigos\", \"coterráneos\", \"conciudadanos\"]\n",
        "condicion = [\"en mi gobierno\", \"con su apoyo\", \" siendo elegido\", \"con su ayuda\", \"si me siguen\", \"durante mi mandato\"]\n",
        "compromiso = [\"voy a derrotar\", \"venceré\", \"eliminaré\", \"acabaré\", \"lucharé contra\", \"combatiré\"]\n",
        "ilusion_de_lucha = [\"la violencia y\", \"la delincuencia y\", \"la corrupción y\", \"la inflación y\", \"la pobreza y\", \"el desplazamiento y\"]\n",
        "promesa = [\"trabajaré por\", \"garantizaré\", \"protegeré\", \"velaré por\", \"promoveré\", \"defenderé\"]\n",
        "benefico_populista = [\"la educación\", \"el empleo\", \"la seguridad\", \"la paz\", \"la igualdad\", \"la salud\"]\n",
        "cantidad_votos = [\"del país.\", \"de la ciudad.\", \"de la comunidad.\", \"de la población.\", \"para toda la gente.\", \"de cada colombiano.\"]\n",
        "discurso = []\n",
        "discurso.append(titulo)\n",
        "discurso.append(publico_objetivo)\n",
        "discurso.append(condicion)\n",
        "discurso.append(compromiso)\n",
        "discurso.append(ilusion_de_lucha)\n",
        "discurso.append(promesa)\n",
        "discurso.append(benefico_populista)\n",
        "discurso.append(cantidad_votos)\n",
        "discurso1 = \"\"\n",
        "\n",
        "for palabras in discurso:\n",
        "  idx = random.randint(0,len(palabras)-1)\n",
        "  discurso1 += palabras[idx] + \" \"\n",
        "print(discurso1)"
      ],
      "metadata": {
        "id": "F5shtx-lCqMH"
      },
      "execution_count": null,
      "outputs": []
    },
    {
      "cell_type": "markdown",
      "source": [
        "# 14. Calculadora de Promedio Ponderado\n",
        "\n",
        "Desarrolla un programa que permita calcular el promedio ponderado de una serie de notas. El programa debe pedir al usuario ingresar una calificación y su respectivo porcentaje o peso en cada iteración. Una vez ingresada una calificación con su peso, el programa debe preguntar si desea ingresar otra más. Si el usuario responde \"no\", el programa calcula y muestra el promedio ponderado basado en los valores ingresados hasta ese momento.\n",
        "```\n",
        "suma_ponderada = 0\n",
        "suma_pesos = 0\n",
        "\n",
        "while True:\n",
        "    nota = float(input(\"Ingrese la calificación: \"))\n",
        "    peso = float(input(\"Ingrese el porcentaje o peso de esta calificación (en porcentaje, sin el símbolo %): \"))\n",
        "\n",
        "    suma_ponderada += nota * (peso / 100)\n",
        "    suma_pesos += peso / 100\n",
        "\n",
        "    continuar = input(\"¿Desea ingresar otra calificación? (sí/no): \").strip().lower()\n",
        "    if continuar == \"no\":\n",
        "        break\n",
        "\n",
        "if suma_pesos == 0:\n",
        "    print(\"No se ingresaron valores válidos para calcular el promedio.\")\n",
        "else:\n",
        "    promedio_ponderado = suma_ponderada / suma_pesos\n",
        "    print(\"El promedio ponderado es:\", promedio_ponderado)\n",
        "```"
      ],
      "metadata": {
        "id": "uol0AkI307PL"
      }
    },
    {
      "cell_type": "markdown",
      "source": [
        "# 15. Juego de Cara o Sello\n",
        "\n",
        "Crea un programa que permita jugar a \"Cara o Sello\" con el usuario. El programa seleccionará de manera aleatoria \"cara\" o \"sello\" y luego pedirá al usuario que haga su adivinanza. Si acierta, se le sumará un punto. Si falla, tendrá tres intentos antes de que el juego termine. Al finalizar el juego, se le mostrará al usuario la cantidad de puntos obtenidos y se le preguntará si quiere jugar de nuevo.\n",
        "\n",
        "- Si el usuario elige \"sí\", el juego se reinicia. Si elige \"no\", el programa finaliza.\n",
        "\n",
        "```\n",
        "import random\n",
        "\n",
        "while True:\n",
        "    puntos = 0\n",
        "    intentos = 3\n",
        "\n",
        "    while intentos > 0:\n",
        "        moneda = random.choice([\"cara\", \"sello\"])\n",
        "        eleccion = input(\"Elige 'cara' o 'sello': \").strip().lower()\n",
        "\n",
        "        if eleccion not in [\"cara\", \"sello\"]:\n",
        "            print(\"Entrada no válida. Intenta de nuevo.\")\n",
        "            continue\n",
        "\n",
        "        if eleccion == moneda:\n",
        "            print(\"¡Adivinaste! Ganas un punto.\")\n",
        "            puntos += 1\n",
        "        else:\n",
        "            print(f\"Fallaste. La moneda salió {moneda}.\")\n",
        "            intentos -= 1\n",
        "\n",
        "        print(f\"Intentos restantes: {intentos}\")\n",
        "\n",
        "    print(f\"Juego terminado. Puntos obtenidos: {puntos}\")\n",
        "    \n",
        "    jugar_de_nuevo = input(\"¿Quieres jugar de nuevo? (sí/no): \").strip().lower()\n",
        "    if jugar_de_nuevo != \"sí\":\n",
        "        print(\"¡Gracias por jugar!\")\n",
        "        break\n",
        "```"
      ],
      "metadata": {
        "id": "UsBrLByY2DGk"
      }
    }
  ],
  "metadata": {
    "colab": {
      "provenance": [],
      "include_colab_link": true
    },
    "kernelspec": {
      "display_name": "Python 3",
      "name": "python3"
    }
  },
  "nbformat": 4,
  "nbformat_minor": 0
}