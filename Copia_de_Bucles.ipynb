{
  "cells": [
    {
      "cell_type": "markdown",
      "metadata": {
        "id": "view-in-github",
        "colab_type": "text"
      },
      "source": [
        "<a href=\"https://colab.research.google.com/github/vatval/fundprog_202510/blob/main/Copia_de_Bucles.ipynb\" target=\"_parent\"><img src=\"https://colab.research.google.com/assets/colab-badge.svg\" alt=\"Open In Colab\"/></a>"
      ]
    },
    {
      "cell_type": "markdown",
      "source": [
        "#**Ejercicios de estructuras repetitivas**\n",
        "\n",
        "**Integrantes:**\n",
        "\n",
        "•\tVALERY AGRESOTT TORRENEGRA 000574797\n",
        "\n",
        "•\tSEBASTIAN LLORENTE  000574916\n",
        "\n",
        "•\tDANNA MONTALVO 000576375\n",
        "\n"
      ],
      "metadata": {
        "id": "gxegd2DLLybN"
      }
    },
    {
      "cell_type": "markdown",
      "source": [
        "# 1. Coleccionista de Insectos\n",
        "\n",
        "Un coleccionista de insectos recoge insectos cada día durante siete días. Diseña un programa que mantenga un total acumulado del número de insectos recogidos durante esos siete días. El ciclo debe pedir el número de insectos recolectados cada día, y al finalizar, el programa debe mostrar el total de insectos recolectados.\n",
        "```\n",
        "Program Coleccionista_insectos\n",
        "\n",
        "Start\n",
        "  Declare int[] dias\n",
        "  Declare int num_insec\n",
        "  Declare int total = 0\n",
        "\n",
        "  Set dias = 1, 2, 3, 4, 5, 6, 7\n",
        "\n",
        "  For int c = 0 To dias -1\n",
        "     Set c += 1\n",
        "     Display \"Ingrese el número de insectos recolectados en el día \" + str(c)+ \": \"\n",
        "     Input num_insec\n",
        "     Set total += num_insec\n",
        "  End For\n",
        "\n",
        "  Display \"El número total de insectos recolectados es:\", total\n",
        "  \n",
        "End\n",
        "```\n"
      ],
      "metadata": {
        "id": "7d-ZMkrMnogV"
      }
    },
    {
      "cell_type": "code",
      "source": [
        "dias = [1, 2, 3, 4, 5, 6, 7] #Lista de los días en que recolectó insectos\n",
        "num_insec = 0 #Número de insectos que recolecta por día\n",
        "total = 0 #Suma de los insectos\n",
        "\n",
        "for c in range(len(dias)):\n",
        "    c += 1\n",
        "    #Pedir el número de insectos recolectados al usuario\n",
        "    num_insec = int(input(\"Ingrese el número de insectos recolectados en el día \" + str(c) + \": \"))\n",
        "    total += num_insec #Sumar los insectos recolectados por cada día\n",
        "print(\"\\nEl número total de insectos recolectados es:\", total) #Mostrar el total de insectos recolectados al usuario"
      ],
      "metadata": {
        "colab": {
          "base_uri": "https://localhost:8080/"
        },
        "id": "xMEgfahPuGOm",
        "outputId": "f901364d-4748-41a1-e8b3-b48ebf1b698f"
      },
      "execution_count": null,
      "outputs": [
        {
          "output_type": "stream",
          "name": "stdout",
          "text": [
            "Ingrese el número de insectos recolectados en el día 1: 4\n",
            "Ingrese el número de insectos recolectados en el día 2: 3\n",
            "Ingrese el número de insectos recolectados en el día 3: 6\n",
            "Ingrese el número de insectos recolectados en el día 4: 7\n",
            "Ingrese el número de insectos recolectados en el día 5: 4\n",
            "Ingrese el número de insectos recolectados en el día 6: 3\n",
            "Ingrese el número de insectos recolectados en el día 7: 2\n",
            "\n",
            "El número total de insectos recolectados es: 29\n"
          ]
        }
      ]
    },
    {
      "cell_type": "markdown",
      "source": [
        "# 2. Calorías Quemadas\n",
        "Corriendo en una cinta específica quemas 3.9 calorías por minuto. Diseña un programa que use un ciclo para mostrar el número de calorías quemadas después de 10 , 15 , 20 , 25 y 30 minutos.\n",
        "```\n",
        "Program Calorias_quemadas\n",
        "\n",
        "Start\n",
        "  Declare const cal_quem = 3.9\n",
        "  Declare float total_cal = 0\n",
        "  Declare int[] mins = [10, 15, 20, 25, 30]\n",
        "\n",
        "  Display \"Programa para saber las calorías quemadas en ciertos intervalos de tiempo\"\n",
        "\n",
        "  For int c = 0 To mins -1\n",
        "     Set total_cal = cal_quem * mins(c)\n",
        "     Display \"Las calorías quemadas luego de\", mins(c), \"minutos son:\" total_cal\n",
        "  End For\n",
        "End\n",
        "\n",
        "```\n",
        "\n"
      ],
      "metadata": {
        "id": "hwT2I4croQXC"
      }
    },
    {
      "cell_type": "code",
      "source": [
        "cal_quem = 3.9 #Calorías quemadas por min\n",
        "total_cal = 0 #Variable para guardar las  calorías quemadas por cada intervalo de tiempo\n",
        "mins = [10, 15, 20, 25, 30] #Lista de los minutos a los cuales se les calculará las calorías por minuto\n",
        "print(\"Programa para saber las calorías quemadas en ciertos intervalos de tiempo\\n\") #Mostrar un texto guía antes del ingreso de los datos\n",
        "\n",
        "for c in range(len(mins)):\n",
        "    total_cal = cal_quem * mins[c] #Calorías consumidas dependiendo el minuto escogido\n",
        "    print(\"Las calorías quemadas luego de\", mins[c], \"minutos son:\", total_cal) #Mostrar las calorías quemadas dependiendo los minutos"
      ],
      "metadata": {
        "id": "4Gd71TXswYnV",
        "colab": {
          "base_uri": "https://localhost:8080/"
        },
        "outputId": "5102dd87-3f34-4c64-fca0-b2eb08f4f9c6"
      },
      "execution_count": 16,
      "outputs": [
        {
          "output_type": "stream",
          "name": "stdout",
          "text": [
            "Programa para saber las calorías quemadas en ciertos intervalos de tiempo\n",
            "\n",
            "Las calorías quemadas luego de 10 minutos son: 39.0\n",
            "Las calorías quemadas luego de 15 minutos son: 58.5\n",
            "Las calorías quemadas luego de 20 minutos son: 78.0\n",
            "Las calorías quemadas luego de 25 minutos son: 97.5\n",
            "Las calorías quemadas luego de 30 minutos son: 117.0\n"
          ]
        }
      ]
    },
    {
      "cell_type": "markdown",
      "source": [
        "# 3. Análisis de Presupuesto\n",
        "\n",
        "Diseña un programa que pida al usuario ingresar la cantidad de dinero que ha presupuestado para un mes. Luego, en un ciclo, el programa debe pedirle al usuario que ingrese cada uno de sus gatos y mantener un total acumulado. Cuando el ciclo termine, el programa debe mostrar si el usuario se pasó o quedó por debajo de su presupuesto.\n",
        "\n",
        "```\n",
        "Program Analisis_presupuesto\n",
        "Start\n",
        "  Declare float presupuesto\n",
        "  Declare float c_gast\n",
        "  Declare float gastos\n",
        "  Declare float total = 0\n",
        "\n",
        "  Display \"Programa para saber si sus gatos se pasan o quedan por debajo de su presupuesto\"\n",
        "\n",
        "  Display \"Ingrese la cantidad de dinero que tiene presupuestada para el mes\"\n",
        "  Input presupuesto\n",
        "\n",
        "  Display \"Ingrese la cantidad de gastos que tiene\"\n",
        "  Input c_gast\n",
        "\n",
        "  For c = 0 To c_gast -1\n",
        "    Set c += 1\n",
        "    Display \"Ingrese su gasto número\", str[c], \": \"\n",
        "    Input gastos\n",
        "    Set total += gastos\n",
        "  End For\n",
        "\n",
        "  Display \"El total acumulado de sus gastos es:\", total\n",
        "\n",
        "  If total == presupuesto Then\n",
        "    Display \"El total acumulado de sus gastos es igual a su presupuesto\"\n",
        "  Else if total < presupuesto Then\n",
        "    Display \"El total acumulado de sus gastos quedó por debajo de su presupuesto (le alcanza)\"\n",
        "  Else\n",
        "    Display \"El total acumulado de sus gastos pasó a su presupuesto (no le alcanza)\"\n",
        "  End If\n",
        "End\n",
        "```"
      ],
      "metadata": {
        "id": "8O9iI4CAoyBN"
      }
    },
    {
      "cell_type": "code",
      "source": [
        "total = 0\n",
        "#Mostrar un texto guía antes del ingreso de los datos\n",
        "#Pedir al usuario el presupuesto y la cantidad de gastos\n",
        "print(\"Programa para saber si sus gastos se pasan o quedan por debajo de su presupuesto\\n\")\n",
        "#Pedir al usuario el presupuesto\n",
        "presupuesto = float(input(\"Ingrese la cantidad de dinero que tiene presupuestada para el mes: \"))\n",
        "#Pedir al usuario la cantidad de gastos\n",
        "c_gast =  float(input(\"Ingrese la cantidad de gastos que tiene: \"))\n",
        "\n",
        "for c in range(int(c_gast)):\n",
        "    c += 1\n",
        "    #Pedir al usuario los gastos\n",
        "    gastos = float(input(\"Ingrese su gasto número \" + str(c) + \": \"))\n",
        "    total += gastos\n",
        "#Mostrar el total acumulado de los gastos\n",
        "print(\"\\nEl total acumulado de sus gastos es:\", total)\n",
        "#Mostrar si el total acumulado de los gastos es igual al presupuesto\n",
        "\n",
        "if total == presupuesto:\n",
        "    print(\"El total acumulado de sus gastos es igual a su presupuesto\")\n",
        "elif total < presupuesto:\n",
        "#Mostrar si el total acumulado de los gastos es menor al presupuesto\n",
        "    print(\"El total acumulado de sus gastos quedó por debajo de su presupuesto (le alcanza)\")\n",
        "\n",
        "else :\n",
        "#Mostrar si el total acumulado de los gastos es mayor al presupuesto\n",
        "    print(\"El total acumulado de sus gastos pasó a su presupuesto (no le alcanza)\")"
      ],
      "metadata": {
        "id": "Da7i4J--xL2k",
        "colab": {
          "base_uri": "https://localhost:8080/"
        },
        "outputId": "8274a5fa-0af4-475d-f0d6-c588d8be1947"
      },
      "execution_count": 15,
      "outputs": [
        {
          "output_type": "stream",
          "name": "stdout",
          "text": [
            "Programa para saber si sus gastos se pasan o quedan por debajo de su presupuesto\n",
            "\n",
            "Ingrese la cantidad de dinero que tiene presupuestada para el mes: 200\n",
            "Ingrese la cantidad de gastos que tiene: 2\n",
            "Ingrese su gasto número 1: 50\n",
            "Ingrese su gasto número 2: 150\n",
            "\n",
            "El total acumulado de sus gastos es: 200.0\n",
            "El total acumulado de sus gastos es igual a su presupuesto\n"
          ]
        }
      ]
    },
    {
      "cell_type": "markdown",
      "source": [
        "# 4. Suma de Números\n",
        "Diseña un programa con un ciclo que le pida al usuario ingresar una serie de números positivos. El usuario debe ingresar un número negativo para indicar que ha terminado de ingresar números. Después de que se hayan ingresado todos los números positivos, el programa debe mostrar la suma de todos ellos.\n",
        "```\n",
        "Program Suma_numeros\n",
        "Start\n",
        "  Declare float suma = 0\n",
        "  Declare float numero\n",
        "\n",
        "  Display \"Programa para sumar números positivos\"\n",
        "  \n",
        "  Display \"Ingresa un número positivo (si ingresa uno negativo, la suma dará 0 y el programa finalizará): \"\n",
        "  Input numero\n",
        "\n",
        "  While numero >=0\n",
        "    Set suma += numero\n",
        "    Display \"Ingresa un número positivo (o un número negativo para terminar)\"\n",
        "    Input numero\n",
        "  End While\n",
        "\n",
        "  Display \"La suma total de los números ingresados es:\", suma\n",
        "End\n",
        "\n",
        "```"
      ],
      "metadata": {
        "id": "8BWYVjB1pqhL"
      }
    },
    {
      "cell_type": "code",
      "source": [
        "#Inicializar la suma\n",
        "suma = 0\n",
        "#Mostrar un texto guía antes del ingreso de los datos\n",
        "print(\"Programa para sumar números positivos\\n\")\n",
        "#Pedir al usuario un número positivo\n",
        "numero = float(input(\"Ingresa un número positivo (si ingresa uno negativo, la suma dará 0 y el programa finalizará): \"))\n",
        "\n",
        "while numero >= 0:\n",
        "#Sumar los números ingresados por el usuario\n",
        "    suma += numero\n",
        "#Pedir al usuario un número positivo o negativo para finalizar\n",
        "    numero = float(input(\"Ingresa un número positivo (o un número negativo para terminar): \"))\n",
        "#Mostrar la suma total de los números ingresados por el usuario\n",
        "print(\"\\nLa suma total de los números ingresados es:\", suma)"
      ],
      "metadata": {
        "id": "cCNo063lyvy0",
        "colab": {
          "base_uri": "https://localhost:8080/"
        },
        "outputId": "07a075a3-44c8-41b5-9d34-68d65da99de0"
      },
      "execution_count": 12,
      "outputs": [
        {
          "output_type": "stream",
          "name": "stdout",
          "text": [
            "Programa para sumar números positivos\n",
            "\n",
            "Ingresa un número positivo (si ingresa uno negativo, la suma dará 0 y el programa finalizará): 4\n",
            "Ingresa un número positivo (o un número negativo para terminar): 5\n",
            "Ingresa un número positivo (o un número negativo para terminar): 4\n",
            "Ingresa un número positivo (o un número negativo para terminar): 7\n",
            "Ingresa un número positivo (o un número negativo para terminar): -2\n",
            "\n",
            "La suma total de los números ingresados es: 20.0\n"
          ]
        }
      ]
    },
    {
      "cell_type": "markdown",
      "source": [
        "# 5. Aumento de Matrícula\n",
        "En una universidad, la matrícula para un estudiante de tiempo completo es de $6,000 por semestre. Se ha anunciado que la matrícula aumentará un 2% cada año durante los próximos cinco años. Diseña un programa con un ciclo que muestre la matrícula proyectada para los próximos cinco años.\n",
        "```\n",
        "Program matricula\n",
        "\n",
        "Start\n",
        "  Declare int years = 0\n",
        "  Declare real matricula = 6000\n",
        "  Declare real aumento = 0.02\n",
        "  Declare real total\n",
        "  Declare int target = 5\n",
        "  \n",
        "  Set total = matricula + (matricula*aumento)\n",
        "  Set length_años = length(años)\n",
        "\n",
        "  while years < target\n",
        "    Set total *= 1 + aumento\n",
        "    Set years +=1\n",
        "    display \"su matricula el año\",años+1,\"sera:\",total\"\n",
        "  End While\n",
        "  \n",
        "End\n",
        "```"
      ],
      "metadata": {
        "id": "xG-4LbvlpyaA"
      }
    },
    {
      "cell_type": "code",
      "source": [
        "matricula = 6000\n",
        "aumento = 0.02\n",
        "target = 5\n",
        "total_2 =matricula + (matricula*aumento)\n",
        "print (\"Su matricula el segundo año sera:\",total_2)\n",
        "total = total_2\n",
        "years = 0\n",
        "\n",
        "while years < target:\n",
        "  total *= 1 + aumento\n",
        "  years +=1\n",
        "  print (\"Su matricula el año\",years,\"sera:\",total)"
      ],
      "metadata": {
        "colab": {
          "base_uri": "https://localhost:8080/"
        },
        "id": "T83bCfVoTPP6",
        "outputId": "317ca731-ebb8-4f74-84b9-feb3936bce2c"
      },
      "execution_count": 2,
      "outputs": [
        {
          "output_type": "stream",
          "name": "stdout",
          "text": [
            "Su matricula el segundo año sera: 6120.0\n",
            "Su matricula el año 1 sera: 6242.400000000001\n",
            "Su matricula el año 2 sera: 6367.2480000000005\n",
            "Su matricula el año 3 sera: 6494.592960000001\n",
            "Su matricula el año 4 sera: 6624.484819200001\n",
            "Su matricula el año 5 sera: 6756.974515584001\n"
          ]
        }
      ]
    },
    {
      "cell_type": "markdown",
      "source": [
        "# 6. Distancia Recorrida\n",
        "\n",
        "La distancia que recorre un vehículo se puede calcular con la siguiente fórmula:\n",
        "\n",
        "- Distancia = Velocidad × Tiempo\n",
        "\n",
        "Por ejemplo, si un tren viaja a 40 millas por hora durante tres horas, la distancia recorrida es de 120 millas. Diseña un programa que le pida al usuario la velocidad de un vehículo (en millas por hora) y cuántas horas ha viajado. Luego debe usar un ciclo para mostrar la distancia recorrida por cada hora de ese período.\n",
        "Ejemplo de salida:\n",
        "\n",
        "- ¿Cuál es la velocidad del vehículo en mph? 40\n",
        "- ¿Cuántas horas ha viajado? 3\n",
        "\n",
        "  Hora | Distancia Recorrida\n",
        "\n",
        "    1 | 40\n",
        "\n",
        "    2 | 80\n",
        "\n",
        "    3 | 120\n",
        "\n",
        "```\n",
        "Program_distancia_recorrida\n",
        "\n",
        " Start\n",
        "\n",
        "    Declare real velocidad\n",
        "    Declare real horas\n",
        "    Declare real distancia\n",
        "    Declare int target\n",
        "\n",
        "    Display\"Cuál es la velocidad del vehículo en mph\"\n",
        "    Input velocidad\n",
        "\n",
        "    Display \"Cuántas horas ha viajado\"\n",
        "    Input horas\n",
        "\n",
        "    if velocidad <= 0 or horas <= 0Then\n",
        "\n",
        "      Display \"La velocidad o horas deben ser mayor que 0.\"      \n",
        "    End if\n",
        "\n",
        "    While target <= horas\n",
        "      Set distancia=velocidad*target\n",
        "      Display \" su distancia en\",target, \" horas, es\", distancia , \"millas\"\n",
        "      target += 1\n",
        " End\n",
        "```\n"
      ],
      "metadata": {
        "id": "uIjrftUZqJDz"
      }
    },
    {
      "cell_type": "code",
      "source": [
        "velocidad = float(input(\"¿Cual es su velocidad en MpH? \"))\n",
        "horas = int (input(\"\\n sus horas en todo el recorrido fueron: \"))\n",
        "target=0\n",
        "distacia = target*velocidad\n",
        "if velocidad <= 0 or horas <= 0:\n",
        "  print(\"\\n velocidad o horas son negativas\")\n",
        "while target <= horas:\n",
        "  distancia = velocidad*target\n",
        "  print(\"\\n su distancia en\",target,\"horas es de \", distancia,\"millas\")\n",
        "  target +=1"
      ],
      "metadata": {
        "id": "08bSawyf3Kgu",
        "outputId": "1fb6d91f-7c41-428d-ffb6-8bbe5d509504",
        "colab": {
          "base_uri": "https://localhost:8080/"
        }
      },
      "execution_count": 11,
      "outputs": [
        {
          "output_type": "stream",
          "name": "stdout",
          "text": [
            "¿Cual es su velocidad en MpH? 50\n",
            "\n",
            " sus horas en todo el recorrido fueron: 2\n",
            "\n",
            " su distancia en 0 horas es de  0.0 millas\n",
            "\n",
            " su distancia en 1 horas es de  50.0 millas\n",
            "\n",
            " su distancia en 2 horas es de  100.0 millas\n"
          ]
        }
      ]
    },
    {
      "cell_type": "markdown",
      "source": [
        "# 7. Promedio de Lluvias\n",
        "\n",
        "Diseña un programa que use ciclos anidados para recolectar datos y calcular el promedio de lluvia durante un período de años. El programa debe primero preguntar cuántos años se quiere evaluar. El ciclo externo se repetirá una vez por cada año. El ciclo interno se repetirá 12 veces, una por\n",
        "cada mes.\n",
        "Cada iteración del ciclo interno debe pedir al usuario los centímetros de lluvia de ese mes. Al finalizar todas las iteraciones, el programa debe mostrar el número total de meses, el total de lluvia en centímetros y el promedio de lluvia por mes para todo el período.\n",
        "\n",
        "```\n",
        "Program promedio_lluvia\n",
        "Start\n",
        "  Declare int years\n",
        "  Declare float total_lluvia = 0\n",
        "  Declare float total_meses\n",
        "  Declare float lluvia\n",
        "  Declare float promedio\n",
        "  Declare int i = 1\n",
        "  Declare int j = 1\n",
        "\n",
        "  Display \"Cuántos años desea evaluar\"\n",
        "  Input years\n",
        "\n",
        "  Set total_meses = years * 12\n",
        "\n",
        "  If years <= 0 Then\n",
        "    Display \"El número de años debe ser mayor que 0\"\n",
        "  Else\n",
        "    For i To years -1\n",
        "      For j To (1, 13)\n",
        "        Display \"Ingrese la cantidad de lluvia (cm) para el mes\", j, \"del año\", i, \":\"\n",
        "        Input lluvia\n",
        "        If lluvia < 0 Then\n",
        "          Display \"La lluvia no puede ser negativa\"\n",
        "        Else\n",
        "          Set total_lluvia += lluvia\n",
        "        End If\n",
        "      End For\n",
        "\n",
        "    Set promedio = total_lluvia / total_meses\n",
        "\n",
        "    Display \"Número total de meses:\", total_meses\n",
        "    Display \"Total de lluvia en cm:\", total_lluvia\n",
        "    Display \"Promedio de lluvia por mes:\", promedio\n",
        "\n",
        "    End For\n",
        "  End If\n",
        "End\n",
        "```"
      ],
      "metadata": {
        "id": "dS9NPgDzuDzT"
      }
    },
    {
      "cell_type": "code",
      "source": [
        "years = int(input(\"Cuántos años desea evaluar: \"))\n",
        "total_lluvia = 0\n",
        "total_meses = years * 12\n",
        "\n",
        "if years <= 0:\n",
        "    print(\"El número de años debe ser mayor que 0\")\n",
        "else:\n",
        "  for i in range(1, years + 1):\n",
        "    for j in range(1, 13):\n",
        "        print(\"Ingrese la cantidad de lluvia (cm) para el mes\", j, \"del año\", i, \":\")\n",
        "        lluvia = float(input())\n",
        "        if lluvia < 0:\n",
        "            print(\"La lluvia no puede ser negativa.\")\n",
        "        else:\n",
        "            total_lluvia += lluvia\n",
        "  promedio = total_lluvia / total_meses\n",
        "\n",
        "  print(\"\\nNúmero total de meses:\", total_meses)\n",
        "  print(\"Total de lluvia en cm:\", total_lluvia)\n",
        "  print(\"Promedio de lluvia por mes:\", promedio)"
      ],
      "metadata": {
        "colab": {
          "base_uri": "https://localhost:8080/"
        },
        "id": "XRGxhz1mhF7Y",
        "outputId": "c19a939d-60a2-492e-d3f1-a87b1ef59d59"
      },
      "execution_count": 18,
      "outputs": [
        {
          "output_type": "stream",
          "name": "stdout",
          "text": [
            "Cuántos años desea evaluar: 1\n",
            "Ingrese la cantidad de lluvia (cm) para el mes 1 del año 1 :\n",
            "20\n",
            "Ingrese la cantidad de lluvia (cm) para el mes 2 del año 1 :\n",
            "20\n",
            "Ingrese la cantidad de lluvia (cm) para el mes 3 del año 1 :\n",
            "10\n",
            "Ingrese la cantidad de lluvia (cm) para el mes 4 del año 1 :\n",
            "10\n",
            "Ingrese la cantidad de lluvia (cm) para el mes 5 del año 1 :\n",
            "25\n",
            "Ingrese la cantidad de lluvia (cm) para el mes 6 del año 1 :\n",
            "30\n",
            "Ingrese la cantidad de lluvia (cm) para el mes 7 del año 1 :\n",
            "15\n",
            "Ingrese la cantidad de lluvia (cm) para el mes 8 del año 1 :\n",
            "17\n",
            "Ingrese la cantidad de lluvia (cm) para el mes 9 del año 1 :\n",
            "28\n",
            "Ingrese la cantidad de lluvia (cm) para el mes 10 del año 1 :\n",
            "10\n",
            "Ingrese la cantidad de lluvia (cm) para el mes 11 del año 1 :\n",
            "10\n",
            "Ingrese la cantidad de lluvia (cm) para el mes 12 del año 1 :\n",
            "10\n",
            "\n",
            "Número total de meses: 12\n",
            "Total de lluvia en cm: 205.0\n",
            "Promedio de lluvia por mes: 17.083333333333332\n"
          ]
        }
      ]
    },
    {
      "cell_type": "markdown",
      "source": [
        "# 8. Tabla de Celsius a Fahrenheit\n",
        "\n",
        "Diseña un programa que muestre una tabla de las temperaturas en grados Celsius del 0 al 20 y sus equivalentes en Fahrenheit. La fórmula para convertir una temperatura de Celsius a Fahrenheit es:\n",
        "\n",
        "- F = (9/5 * C) + 32\n",
        "\n",
        "donde F es la temperatura en Fahrenheit y C es la temperatura en Celsius. Tu programa debe usar un ciclo para mostrar la tabla.\n",
        "\n",
        "```\n",
        "Program Tabla_temperatura\n",
        "\n",
        "Start\n",
        "\n",
        "  Declare int celsius = 0\n",
        "  Declare fahrenheit = 0\n",
        "\n",
        "  Display \"Tabla de Celsius a Fahrenheit\"\n",
        "  Display \"Celsius | Fahrenheit\"\n",
        "\n",
        "  For celsius To 20 Do\n",
        "    Set fahrenheit = (9.0/5.0 * celsius) + 32\n",
        "    Display celsius , \"|\", fahrenheit\n",
        "\n",
        "  End For\n",
        "end\n",
        "```"
      ],
      "metadata": {
        "id": "SigCqE21vFRR"
      }
    },
    {
      "cell_type": "code",
      "source": [
        "celsius = 0\n",
        "fahrenheit = 0\n",
        "\n",
        "print(\"Tabla de Celsius a Fahrenheit\")\n",
        "print(\"Celsius | Fahrenheit\")\n",
        "\n",
        "for celsius in range(0, 21):\n",
        "    fahrenheit = (9.0/5.0 * celsius) + 32\n",
        "    print(celsius, \"|\", fahrenheit)\n",
        ""
      ],
      "metadata": {
        "colab": {
          "base_uri": "https://localhost:8080/"
        },
        "id": "dRmuua1lW_2S",
        "outputId": "b495bbf5-ec5f-43ea-a734-b63aa513674b"
      },
      "execution_count": 19,
      "outputs": [
        {
          "output_type": "stream",
          "name": "stdout",
          "text": [
            "Tabla de Celsius a Fahrenheit\n",
            "Celsius | Fahrenheit\n",
            "0 | 32.0\n",
            "1 | 33.8\n",
            "2 | 35.6\n",
            "3 | 37.4\n",
            "4 | 39.2\n",
            "5 | 41.0\n",
            "6 | 42.8\n",
            "7 | 44.6\n",
            "8 | 46.4\n",
            "9 | 48.2\n",
            "10 | 50.0\n",
            "11 | 51.8\n",
            "12 | 53.6\n",
            "13 | 55.400000000000006\n",
            "14 | 57.2\n",
            "15 | 59.0\n",
            "16 | 60.8\n",
            "17 | 62.6\n",
            "18 | 64.4\n",
            "19 | 66.2\n",
            "20 | 68.0\n"
          ]
        }
      ]
    },
    {
      "cell_type": "markdown",
      "source": [
        "#9-10-11\n",
        "Eran los ejercicios de nuestro compañero Sebastián Benítez."
      ],
      "metadata": {
        "id": "h-U0-PJFgE2L"
      }
    },
    {
      "cell_type": "markdown",
      "source": [
        "# 11. Primero y Último\n",
        "\n",
        "Diseña un programa que pida al usuario una serie de nombres (en cualquier orden). Después de que se haya ingresado el último nombre, el programa debe mostrar el nombre que está primero alfabéticamente y el nombre que está último alfabéticamente. Por ejemplo, si el usuario ingresa los nombres Kristin, Joel, Adam, Beth, Zeb, y Chris, el programa debería mostrar Adam y Zeb.\n",
        "\n",
        "```\n",
        "  Program alfabetico\n",
        "\n",
        "  Start\n",
        "\n",
        "  Declare str[] num_nombres\n",
        "  Declare int num\n",
        "\n",
        "    while true do\n",
        "      display \"Ingresa un nombre (escriba fin para terminar): \"\n",
        "      input nombre\n",
        "        if nombre = \"fin\" then\n",
        "            break\n",
        "        nombres.app(nombre)\n",
        "        end if\n",
        "\n",
        "    if nombres then\n",
        "        nombres.sort()\n",
        "        display \"Primer nombre alfabéticamente ubicado de los nombres ingresados es:\", nombres[0]\n",
        "        display \"Último nombre alfabéticamente ubicado de los numeros ingresados es:\", nombres[-1]\n",
        "    else\n",
        "        display \"No ingresaste ningún nombre.\"\n",
        "\n",
        "    end if\n",
        "\n",
        "end\n",
        "\n",
        "```\n"
      ],
      "metadata": {
        "id": "tnIyYpEkyT-q"
      }
    },
    {
      "cell_type": "code",
      "source": [
        "nombres = []\n",
        "\n",
        "while True:\n",
        "    nombre = input(\"Ingresa un nombre (escriba fin para terminar): \")\n",
        "    if nombre == \"fin\":\n",
        "        break\n",
        "    nombres.append(nombre)\n",
        "\n",
        "if nombres:\n",
        "    nombres.sort()\n",
        "    print(\"Primer nombre alfabéticamente ubicado de los nombres ingresados es:\", nombres[0])\n",
        "    print(\"Último nombre alfabéticamente ubicado de los numeros ingresados es:\", nombres[-1])\n",
        "else:\n",
        "    print(\"No ingresaste ningún nombre.\")"
      ],
      "metadata": {
        "colab": {
          "base_uri": "https://localhost:8080/"
        },
        "id": "guNjjzLnzfJl",
        "outputId": "ebff5646-6268-45a8-e91c-dba054bc3ed4"
      },
      "execution_count": 1,
      "outputs": [
        {
          "output_type": "stream",
          "name": "stdout",
          "text": [
            "Ingresa un nombre (escriba fin para terminar): andrea\n",
            "Ingresa un nombre (escriba fin para terminar): berta\n",
            "Ingresa un nombre (escriba fin para terminar): camila\n",
            "Ingresa un nombre (escriba fin para terminar): daniel\n",
            "Ingresa un nombre (escriba fin para terminar): fin\n",
            "Primer nombre alfabéticamente ubicado de los nombres ingresados es: andrea\n",
            "Último nombre alfabéticamente ubicado de los numeros ingresados es: daniel\n"
          ]
        }
      ]
    },
    {
      "cell_type": "markdown",
      "source": [
        "# 12. Cálculo del Factorial de un Número\n",
        "\n",
        "En matemáticas, la notación 𝑛! representa el factorial de un número entero no negativo 𝑛. El factorial de n es el producto de todos los números enteros no negativos desde 1 hasta 𝑛. Por ejemplo:\n",
        "\n",
        "- 7! = 1 × 2 × 3 × 4 × 5 × 6 × 7 = 5040   \n",
        "- 4! = 1 × 2 × 3 × 4 = 24\n",
        "\n",
        "Diseña un programa que pida al usuario que ingrese un número entero no negativo y luego muestre el factorial de ese número.\n",
        "\n",
        "```\n",
        "program factorial\n",
        "\n",
        "  start\n",
        "    Declare real num\n",
        "    Declare real resultado\n",
        "    Display \"ingresa un numero no negativo, ni decimal (entero) :\"\n",
        "    Input num\n",
        "  For a in range(num)\n",
        "      resultado *= (float(i+1))\n",
        "  End For\n",
        "      Display \"el resultado de la multiplicacion es: \", resultado\n",
        "  End\n",
        "\n",
        "```"
      ],
      "metadata": {
        "id": "EpqbPX_Xyrwp"
      }
    },
    {
      "cell_type": "code",
      "source": [
        "num=int(input(\"ingresa un numero entero no negativo:\"))\n",
        "resultado=1\n",
        "for i in range(num):\n",
        "    resultado *= (float(i+1))\n",
        "print(\"el resultado de la multiplicacion es: \", resultado)"
      ],
      "metadata": {
        "colab": {
          "base_uri": "https://localhost:8080/"
        },
        "id": "6P4Ig5Y6bZZN",
        "outputId": "2629c890-759f-4e22-9931-80f5b00f1171"
      },
      "execution_count": 6,
      "outputs": [
        {
          "output_type": "stream",
          "name": "stdout",
          "text": [
            "ingresa un numero entero no negativo:7\n",
            "el resultado de la multiplicacion es:  5040.0\n"
          ]
        }
      ]
    },
    {
      "cell_type": "markdown",
      "source": [
        "# 13. Generador de Discurso Político\n",
        "\n",
        "Imagina que formas parte de un equipo de campaña que necesita crear discursos políticos rápidamente. Para ello, contarás con una tabla de palabras y frases predefinidas para distintas secciones de un discurso: título, público objetivo, condición social, compromiso político, lucha social, promesa, beneficio populista y cantidad de votos (ver Fig. 1).\n",
        "El programa deberá construir un mensaje político seleccionando aleatoriamente una palabra o frase de cada categoría. El mensaje final debe mostrarse al terminar la ejecución del programa. Se recomienda el uso de listas, ciclos y la función de selección aleatoria para generar el discurso.\n",
        "- **Ejemplo:** “Apreciados amigos con su ayuda\n",
        "venceré la pobreza y promoveré la igualdad de la comunidad.”\n",
        "```\n",
        "Program Discurso_politico\n",
        "  Start\n",
        "    Declare str[] titulo = [\"Queridos\",...]\n",
        "    Declare str[] publico_objetivo = [\"compatriotas\",...]\n",
        "    Declare str[] condicion = [\"en mi gobierno\",...]\n",
        "    Declare str[] compromiso = [\"voy a derrotar\",...]\n",
        "    Declare str[] ilusion_de_lucha = [\"la violencia y\",...]\n",
        "    Declare str[] promesa = [\"trabajaré por\",...]\n",
        "    Declare str[] beneficio_populista = [\"la educación\",...]\n",
        "    Declare str[] cantidad_votos = [\"del país.\",...]\n",
        "    Declare str[] discurso = []\n",
        "    Declare str discruso1 = \"\"\n",
        "    Declare str palabras\n",
        "    Declare str idx\n",
        "\n",
        "    discurso.add(titulo)\n",
        "    discurso.add(publico_objetivo)\n",
        "    discurso.add(condicion)\n",
        "    discurso.add(compromiso)\n",
        "    discurso.add(ilusion_de_lucha)\n",
        "    discurso.add(promesa)\n",
        "    discurso.add(beneficio_populista)\n",
        "    discurso.add(cantidad_votos)\n",
        "\n",
        "    For palabras To discurso\n",
        "      Set idx = random.randint(palabras)\n",
        "      Set discurso1 += palabras[idx] + \" \"\n",
        "    End For\n",
        "    \n",
        "    Display discurso1\n",
        "  End\n",
        "```"
      ],
      "metadata": {
        "id": "tRyw50PozrRQ"
      }
    },
    {
      "cell_type": "code",
      "source": [
        "import random\n",
        "\n",
        "titulo = [\"Queridos\", \"Apreciados\", \"Distinguidos\", \"Honorables\", \"Estimados\", \"Respetados\"]\n",
        "publico_objetivo = [\"compatriotas\", \"copartidiarios\", \"amigos\", \"coterráneos\", \"conciudadanos\"]\n",
        "condicion = [\"en mi gobierno\", \"con su apoyo\", \" siendo elegido\", \"con su ayuda\", \"si me siguen\", \"durante mi mandato\"]\n",
        "compromiso = [\"voy a derrotar\", \"venceré\", \"eliminaré\", \"acabaré\", \"lucharé contra\", \"combatiré\"]\n",
        "ilusion_de_lucha = [\"la violencia y\", \"la delincuencia y\", \"la corrupción y\", \"la inflación y\", \"la pobreza y\", \"el desplazamiento y\"]\n",
        "promesa = [\"trabajaré por\", \"garantizaré\", \"protegeré\", \"velaré por\", \"promoveré\", \"defenderé\"]\n",
        "benefico_populista = [\"la educación\", \"el empleo\", \"la seguridad\", \"la paz\", \"la igualdad\", \"la salud\"]\n",
        "cantidad_votos = [\"del país.\", \"de la ciudad.\", \"de la comunidad.\", \"de la población.\", \"para toda la gente.\", \"de cada colombiano.\"]\n",
        "discurso = []\n",
        "discurso.append(titulo)\n",
        "discurso.append(publico_objetivo)\n",
        "discurso.append(condicion)\n",
        "discurso.append(compromiso)\n",
        "discurso.append(ilusion_de_lucha)\n",
        "discurso.append(promesa)\n",
        "discurso.append(benefico_populista)\n",
        "discurso.append(cantidad_votos)\n",
        "discurso1 = \"\"\n",
        "\n",
        "for palabras in discurso:\n",
        "  idx = random.randint(0,len(palabras)-1)\n",
        "  discurso1 += palabras[idx] + \" \"\n",
        "print(discurso1)"
      ],
      "metadata": {
        "id": "F5shtx-lCqMH",
        "colab": {
          "base_uri": "https://localhost:8080/"
        },
        "outputId": "f0131c1d-f816-4b5d-b60e-bd89739b6819"
      },
      "execution_count": 20,
      "outputs": [
        {
          "output_type": "stream",
          "name": "stdout",
          "text": [
            "Distinguidos compatriotas con su ayuda eliminaré la delincuencia y promoveré la seguridad de la ciudad. \n"
          ]
        }
      ]
    },
    {
      "cell_type": "markdown",
      "source": [
        "# 14. Calculadora de Promedio Ponderado\n",
        "\n",
        "Desarrolla un programa que permita calcular el promedio ponderado de una serie de notas. El programa debe pedir al usuario ingresar una calificación y su respectivo porcentaje o peso en cada iteración. Una vez ingresada una calificación con su peso, el programa debe preguntar si desea ingresar otra más. Si el usuario responde \"no\", el programa calcula y muestra el promedio ponderado basado en los valores ingresados hasta ese momento.\n",
        "\n",
        "```\n",
        "program promedio_ponderado\n",
        "\n",
        "  start\n",
        "\n",
        "  Declare real nota\n",
        "  Declare real peso\n",
        "  Declare real suma_ponderada=0\n",
        "  Declare real suma_pesos=0\n",
        "  Declare str contin\n",
        "\n",
        "    While true do\n",
        "      Display \"ingrese la nota\"\n",
        "      input nota\n",
        "      Display \"Ingrese el porcentaje o peso de esta calificación\"\n",
        "      input peso\n",
        "      Set Suma_ponderada += nota * (peso / 100)\n",
        "      Set Suma_pesos += peso / 100\n",
        "      Display \"va a ingresar otra nota (si/no):\"\n",
        "      input contin\n",
        "      contin=contin.lower()\n",
        "        if contin == \"no\" then\n",
        "            break\n",
        "        end if\n",
        "    end while\n",
        "\n",
        "  if suma_pesos == 0 then\n",
        "      display \"esa nota no tiene un peso.\"\n",
        "  else\n",
        "      Set promedio_ponderado = suma_ponderada / suma_pesos\n",
        "      display \"El promedio ponderado es:\", promedio_ponderado\n",
        "  end if\n",
        "  End\n",
        "```"
      ],
      "metadata": {
        "id": "uol0AkI307PL"
      }
    },
    {
      "cell_type": "code",
      "source": [
        "suma_ponderada = 0\n",
        "suma_pesos = 0\n",
        "\n",
        "while True:\n",
        "    nota = float(input(\"Ingrese la nota: \"))\n",
        "    peso = float(input(\"Ingrese el porcentaje o peso de esta calificación\"))\n",
        "\n",
        "    suma_ponderada += nota * (peso / 100)\n",
        "    suma_pesos += peso / 100\n",
        "\n",
        "    continuar = input(\"Desea ingresar otra calificación (sí/no): \").lower()\n",
        "    if continuar == \"no\":\n",
        "        break\n",
        "\n",
        "if suma_pesos == 0:\n",
        "    print(\"esa nota no tiene un peso.\")\n",
        "else:\n",
        "    promedio_ponderado = suma_ponderada / suma_pesos\n",
        "    print(\"El promedio ponderado es:\", promedio_ponderado)"
      ],
      "metadata": {
        "id": "Lf2etDC6paaA",
        "outputId": "6ae5a8dc-d194-4487-b63b-f3b4b367ad38",
        "colab": {
          "base_uri": "https://localhost:8080/"
        }
      },
      "execution_count": null,
      "outputs": [
        {
          "output_type": "stream",
          "name": "stdout",
          "text": [
            "Ingrese la calificación: 5.0\n",
            "Ingrese el porcentaje o peso de esta calificación (en porcentaje, sin el símbolo %): 90\n",
            "Desea ingresar otra calificación (sí/no): no\n",
            "El promedio ponderado es: 5.0\n"
          ]
        }
      ]
    },
    {
      "cell_type": "markdown",
      "source": [
        "# 15. Juego de Cara o Sello\n",
        "\n",
        "Crea un programa que permita jugar a \"Cara o Sello\" con el usuario. El programa seleccionará de manera aleatoria \"cara\" o \"sello\" y luego pedirá al usuario que haga su adivinanza. Si acierta, se le sumará un punto. Si falla, tendrá tres intentos antes de que el juego termine. Al finalizar el juego, se le mostrará al usuario la cantidad de puntos obtenidos y se le preguntará si quiere jugar de nuevo.\n",
        "\n",
        "- Si el usuario elige \"sí\", el juego se reinicia. Si elige \"no\", el programa finaliza.\n",
        "\n",
        "```\n",
        "Program cara_sello\n",
        "Start\n",
        "  Declare int puntos\n",
        "  Declare int intentos\n",
        "  Declare str moneda\n",
        "  Declare str eleccion\n",
        "  Declare str jugar_de_nuevo\n",
        "\n",
        "  While True do\n",
        "    Set puntos = 0\n",
        "    Set intentos = 3\n",
        "    While intentos > 0 do\n",
        "      Set moneda = \"cara\"\n",
        "      If random.randint(0, 1) == 1 then\n",
        "        Set moneda = \"sello\"\n",
        "      \n",
        "      Display \"Elige (cara) o (sello) :\".strip\n",
        "      Input eleccion.lower()\n",
        "\n",
        "      If eleccion == \"cara\" or eleccion == \"sello\" Then\n",
        "        If eleccion == monenda Then\n",
        "          Display \"¡Adivinase! Ganas un punto.\"\n",
        "          Set puntos += 1\n",
        "        Else\n",
        "          Display \"Fallaste. La moneda salió\", moneda\n",
        "          Set intentos -= 1\n",
        "      Else\n",
        "        Display \"Entrada no válida. Intenta de nuevo.\"\n",
        "        continue\n",
        "\n",
        "        Display \"Intentos restantes:\", intentos\n",
        "\n",
        "    Display \"Juego terminado. Puntos obtenidos:\", puntos\n",
        "\n",
        "    Display \"¿Quieres jugar de nuevo? (si/no):\". strip\n",
        "    Input jugar_de_nuevo\n",
        "\n",
        "    If jugar_de_nuevo != \"si\" Then\n",
        "      Display \"¡Gracias por jugar!\"\n",
        "      break\n",
        "    End While\n",
        "  End While\n",
        "End\n",
        "```"
      ],
      "metadata": {
        "id": "UsBrLByY2DGk"
      }
    },
    {
      "cell_type": "code",
      "source": [
        "while True:\n",
        "\n",
        "    puntos = 0\n",
        "    intentos = 3\n",
        "\n",
        "    while intentos > 0:\n",
        "      moneda = \"cara\"\n",
        "      if random.randint(0, 1) == 1:\n",
        "        moneda = \"sello\"\n",
        "\n",
        "      eleccion = input(\"Elige 'cara' o 'sello': \").strip().lower()\n",
        "      if eleccion == \"cara\" or eleccion == \"sello\":\n",
        "        if eleccion == moneda:\n",
        "          print(\"¡Adivinaste! Ganas un punto.\")\n",
        "          puntos += 1\n",
        "        else:\n",
        "          print(\"Fallaste. La moneda salió\", moneda)\n",
        "          intentos -= 1\n",
        "\n",
        "      else:\n",
        "        print(\"Entrada no válida. Intenta de nuevo.\")\n",
        "        continue\n",
        "\n",
        "      print(\"Intentos restantes:\", intentos)\n",
        "\n",
        "    print(\"\\nJuego terminado. Puntos obtenidos:\", puntos)\n",
        "    jugar_de_nuevo = input(\"¿Quieres jugar de nuevo? (si/no): \").strip().lower()\n",
        "    if jugar_de_nuevo != \"si\":\n",
        "        print(\"\\n¡Gracias por jugar!\")\n",
        "        break"
      ],
      "metadata": {
        "colab": {
          "base_uri": "https://localhost:8080/"
        },
        "id": "h1mL7KDVnHFw",
        "outputId": "fd1175c2-29b1-43f1-9c8c-d0f376b3b8ec"
      },
      "execution_count": 7,
      "outputs": [
        {
          "output_type": "stream",
          "name": "stdout",
          "text": [
            "Elige 'cara' o 'sello': cara\n",
            "Fallaste. La moneda salió sello\n",
            "Intentos restantes: 2\n",
            "Elige 'cara' o 'sello': sello}\n",
            "Entrada no válida. Intenta de nuevo.\n",
            "Elige 'cara' o 'sello': sello\n",
            "Fallaste. La moneda salió cara\n",
            "Intentos restantes: 1\n",
            "Elige 'cara' o 'sello': cara\n",
            "Fallaste. La moneda salió sello\n",
            "Intentos restantes: 0\n",
            "\n",
            "Juego terminado. Puntos obtenidos: 0\n",
            "¿Quieres jugar de nuevo? (si/no): si\n",
            "Elige 'cara' o 'sello': cara\n",
            "¡Adivinaste! Ganas un punto.\n",
            "Intentos restantes: 3\n",
            "Elige 'cara' o 'sello': sello\n",
            "¡Adivinaste! Ganas un punto.\n",
            "Intentos restantes: 3\n",
            "Elige 'cara' o 'sello': sello\n",
            "¡Adivinaste! Ganas un punto.\n",
            "Intentos restantes: 3\n",
            "Elige 'cara' o 'sello': sello\n",
            "Fallaste. La moneda salió cara\n",
            "Intentos restantes: 2\n",
            "Elige 'cara' o 'sello': sello\n",
            "¡Adivinaste! Ganas un punto.\n",
            "Intentos restantes: 2\n",
            "Elige 'cara' o 'sello': cara\n",
            "Fallaste. La moneda salió sello\n",
            "Intentos restantes: 1\n",
            "Elige 'cara' o 'sello': cara\n",
            "¡Adivinaste! Ganas un punto.\n",
            "Intentos restantes: 1\n",
            "Elige 'cara' o 'sello': cara\n",
            "¡Adivinaste! Ganas un punto.\n",
            "Intentos restantes: 1\n",
            "Elige 'cara' o 'sello': cara\n",
            "¡Adivinaste! Ganas un punto.\n",
            "Intentos restantes: 1\n",
            "Elige 'cara' o 'sello': cara\n",
            "¡Adivinaste! Ganas un punto.\n",
            "Intentos restantes: 1\n",
            "Elige 'cara' o 'sello': cara\n",
            "¡Adivinaste! Ganas un punto.\n",
            "Intentos restantes: 1\n",
            "Elige 'cara' o 'sello': cara\n",
            "Fallaste. La moneda salió sello\n",
            "Intentos restantes: 0\n",
            "\n",
            "Juego terminado. Puntos obtenidos: 9\n",
            "¿Quieres jugar de nuevo? (si/no): no\n",
            "\n",
            "¡Gracias por jugar!\n"
          ]
        }
      ]
    }
  ],
  "metadata": {
    "colab": {
      "provenance": [],
      "include_colab_link": true
    },
    "kernelspec": {
      "display_name": "Python 3",
      "name": "python3"
    }
  },
  "nbformat": 4,
  "nbformat_minor": 0
}