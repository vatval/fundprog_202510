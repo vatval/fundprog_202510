{
  "nbformat": 4,
  "nbformat_minor": 0,
  "metadata": {
    "colab": {
      "provenance": [],
      "include_colab_link": true
    },
    "kernelspec": {
      "name": "python3",
      "display_name": "Python 3"
    },
    "language_info": {
      "name": "python"
    }
  },
  "cells": [
    {
      "cell_type": "markdown",
      "metadata": {
        "id": "view-in-github",
        "colab_type": "text"
      },
      "source": [
        "<a href=\"https://colab.research.google.com/github/vatval/fundprog_202510/blob/main/mis%20primeros%20pasos%20con%20python.ipynb\" target=\"_parent\"><img src=\"https://colab.research.google.com/assets/colab-badge.svg\" alt=\"Open In Colab\"/></a>"
      ]
    },
    {
      "cell_type": "markdown",
      "source": [
        "**integrante**\n",
        "\n",
        "Danna Montalvo Hernández: 000576375-  danna.montalvo@upb.edu.co\n",
        "\n",
        "Valery Agresott Torrenegra: 000574797-  valery.agresott@upb.edu.co\n",
        "\n",
        "Yadiel Lopez Hernández: 000576591-  yadiel.lopez@upb.edu.co"
      ],
      "metadata": {
        "id": "Id-ZXqw6AuFp"
      }
    },
    {
      "cell_type": "markdown",
      "source": [
        "ejercicio uno"
      ],
      "metadata": {
        "id": "roytmIEublhg"
      }
    },
    {
      "cell_type": "code",
      "source": [
        "name= input(\"ingrese su nombre \")\n",
        "age=input(\"ingrese su edad \")\n",
        "place=input(\"ingrese su lugar de recidencia \")\n",
        "email=input(\"ingrese su email \")\n",
        "phone=input(\"ingrese su telefono \")\n",
        "perfil= name, str(age), place, email , str(phone)\n",
        "print (perfil)\n",
        "\n"
      ],
      "metadata": {
        "id": "lNOR7FWIinRn"
      },
      "execution_count": null,
      "outputs": []
    },
    {
      "cell_type": "markdown",
      "source": [
        "Ejercicio 2"
      ],
      "metadata": {
        "id": "NuqYRZ4iA1f_"
      }
    },
    {
      "cell_type": "code",
      "execution_count": null,
      "metadata": {
        "id": "YnwhmgwmnL0B",
        "colab": {
          "base_uri": "https://localhost:8080/"
        },
        "outputId": "90271c91-e62e-4c9f-acca-83fb0a84982d"
      },
      "outputs": [
        {
          "output_type": "stream",
          "name": "stdout",
          "text": [
            "ingrese los valores para calcular el area de un cilindro\n"
          ]
        }
      ],
      "source": [
        "#ejercicio dos\n",
        "#Creamos tres variables\n",
        "#En dos de ellas el usuario puede ingresar un valor y pi ya esta definida\n",
        "print(\"ingrese los valores para calcular el area de un cilindro\")\n",
        "altura=float(input(\"ingresar la altura: \"))\n",
        "pi= 3.1415\n",
        "radio=float(input(\"ingresar el radio\" ))\n",
        "#ahora creamos una variable que realice el calculo del area\n",
        "acilindro=(2*pi*radio*altura) + (2*pi*radio**2)\n",
        "#ahora creamos una vareable que realice el calculo del volumen\n",
        "vcilindro=(pi*radio**2*altura)\n",
        "#mostramos los resultado\n",
        "print(\"el area del cilindro : \" + str(acilindro) + \" m^2 \")\n",
        "print(\"el volumen del cilindro : \" + str(vcilindro) + \"m^3\")\n",
        "#Creamos tres variables\n",
        "#En en tres de ellas el usuario puede ingresar un valor\n",
        "print(\"ingrese los valores para calcular el area de un ortoedro\")\n",
        "ancho=float(input(\"ingresar el ancho: \"))\n",
        "largo=float(input(\"ingresar el largo: \"))\n",
        "profund=float(input(\"ingresa la profundidad: \"))\n",
        "#ahora creamos una variable que realice el calculo del area del ortoedro\n",
        "aortoedro=2*((largo*ancho)+(largo*profund)+(ancho*profund))\n",
        "#ahora creamos una vareable que realice el calculo del volumen ortoedro\n",
        "vortoedro=largo*ancho*profund\n",
        "print(\"el area del ortoedro : \" + str(aortoedro) + \" m^2 \")\n",
        "print(\"el volumen del ortoedro : \" + str(vortoedro) + \"m^3\")\n",
        "\n",
        "\n"
      ]
    }
  ]
}