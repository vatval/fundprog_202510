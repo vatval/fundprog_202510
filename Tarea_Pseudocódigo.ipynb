{
  "nbformat": 4,
  "nbformat_minor": 0,
  "metadata": {
    "colab": {
      "provenance": [],
      "authorship_tag": "ABX9TyOtz2EtQHDXSKrio/mo/7kC",
      "include_colab_link": true
    },
    "kernelspec": {
      "name": "python3",
      "display_name": "Python 3"
    },
    "language_info": {
      "name": "python"
    }
  },
  "cells": [
    {
      "cell_type": "markdown",
      "metadata": {
        "id": "view-in-github",
        "colab_type": "text"
      },
      "source": [
        "<a href=\"https://colab.research.google.com/github/vatval/fundprog_202510/blob/main/Tarea_Pseudoc%C3%B3digo.ipynb\" target=\"_parent\"><img src=\"https://colab.research.google.com/assets/colab-badge.svg\" alt=\"Open In Colab\"/></a>"
      ]
    },
    {
      "cell_type": "markdown",
      "source": [
        "# Actividad individual\n",
        "* Valery Agresott\n",
        "* ID: 000574797\n"
      ],
      "metadata": {
        "id": "UAm7HEYQgt0k"
      }
    },
    {
      "cell_type": "markdown",
      "source": [
        "# Problema 1\n",
        "\n",
        "Calcular la resistencia equivalente de 𝑛 resistencias en paralelo.\n",
        "\n",
        "**Descripción:** Desarrolla un algoritmo que tome como entrada un valor 𝑛 que indica el número de resistencias en paralelo ,\n",
        "\n",
        "*el valor de cada una de ellas en ohmios* , y calcule la resistencia equivalente.\n",
        "\n",
        "Tenga en cuenta que 1/ 𝑅𝑒q = 1/ *𝑅1*+ 1/*𝑅2* + ⋯ + 1/ 𝑅𝑛\n",
        "\n",
        "*   **Resultado:** La resistencia equivalente en ohmios.\n",
        "*   **Entradas:** Un valor 𝑛 y 𝑛 valores de resistencia en ohmios.\n",
        "\n",
        "Ejemplo: Entrada: 3, 100, 200, 300; Salida esperada: 54.54 ohmios.\n",
        "\n",
        "**Algoritmo**\n",
        "\n",
        "Inicio\n",
        "\n",
        "1. Declarar las variables en real o float:\n",
        "\n",
        "* res1: Primera resistencia que ingresa el usuario\n",
        "* res2: Segunda resistencia que ingresa el usuario\n",
        "* res3: Tercera resistencia que ingresa el usuario\n",
        "* req: Resistencia equivalente\n",
        "\n",
        "2. Con el display mostramos al usuario lo que debe ingresar :\n",
        "* \"Ingrese el valor de la primera resistencia:\"\n",
        "3. Para almacenar la variable usamos el input :\n",
        "* Variable: res1\n",
        "4. Con el display mostramos al usuario lo que debe ingresar :\n",
        "* \"Ingrese el valor de la segunda resistencia:\"\n",
        "5. Para almacenar la variable usamos el input:\n",
        "* variable: res2\n",
        "6. Con el display mostramos al usuario lo que debe ingresar :\n",
        "* \"Ingrese el valor de la tercera resistencia en ohmios:\"\n",
        "7. Para almacenar la variable usamos el input:\n",
        "* variable: res3\n",
        "8. Calcular la resistencia equivalente con la formula proporcionada\n",
        "9. Mostrar el resultado en pantalla con el mensaje:\n",
        "* \"La resistencia equivalente es:\", req \"ohmios\"\n",
        "\n",
        "Fin del programa\n",
        "\n",
        "```\n",
        "program res_equivalente\n",
        "\n",
        "start\n",
        "  declare real res1\n",
        "  declare real res2\n",
        "  declare real res3\n",
        "  declare real req\n",
        "\n",
        "    display \"Ingrese el valor de la  primera resistencia en ohmios:\"\n",
        "    input res1\n",
        "    display \"Ingrese el valor de la segunda resistencia en ohmios:\"\n",
        "    input res2\n",
        "    display \"Ingrese el valor de la tercera resistencia en ohmios:\"\n",
        "    input res3\n",
        "    \n",
        "    set req= 1 / ((1/res1) + (1/res2) + (1/res3))\n",
        "\n",
        "    display \"La resistencia equivalente es:\", req, \"ohmios\"\n",
        "\n",
        "end\n",
        "```\n"
      ],
      "metadata": {
        "id": "IEYqQi4REa2I"
      }
    },
    {
      "cell_type": "code",
      "source": [
        "#Creamos tres variables que registren el valor de las resistencias\n",
        "res1 =float(input(\"Ingrese el valor de la primera resistencia en ohmios: \"))\n",
        "res2 = float(input(\"Ingrese el valor de la segunda resistencia en ohmios: \"))\n",
        "res3 = float(input(\"Ingrese el valor de la  tercera resistencia en ohmios: \"))\n",
        "#Con la formula que brinda el enunciado\n",
        "#creamos una variable que logre realizar el calculo\n",
        "\n",
        "req = 1 / ((1/res1) + (1/res2) + (1/res3))\n",
        "#mostramos el resultado con el print\n",
        "\n",
        "print(\"La resistencia equivalente es:\", req, \"ohmios\")\n"
      ],
      "metadata": {
        "colab": {
          "base_uri": "https://localhost:8080/"
        },
        "id": "YR1qFzwVzs1h",
        "outputId": "4a3a440a-0cd2-493f-b6be-b5525fa90ee1"
      },
      "execution_count": null,
      "outputs": [
        {
          "output_type": "stream",
          "name": "stdout",
          "text": [
            "Ingrese el valor de la resistencia 1 en ohmios: 100\n",
            "Ingrese el valor de la resistencia 2 en ohmios: 200\n",
            "Ingrese el valor de la resistencia 3 en ohmios: 300\n",
            "La resistencia equivalente es: 54.54545454545455 ohmios\n"
          ]
        }
      ]
    },
    {
      "cell_type": "markdown",
      "source": [
        "# **Problema 2**\n",
        "\n",
        "Calcular la potencia disipada en un circuito con una resistencia dada y una corriente especificada.\n",
        "\n",
        "**Descripción:** Escribe un algoritmo que tome como entrada el valor de la resistencia (𝑅) en ohmios y el valor de la corriente (𝐼) en amperios, y calcule la potencia disipada en el circuito utilizando la ley de Joule 𝑃 = 𝐼^2*𝑅.\n",
        "\n",
        "**Resultado:** La potencia disipada en el circuito en vatios.\n",
        "Entradas: El valor de la resistencia en ohmios y el valor de la corriente en amperios.\n",
        "\n",
        "*   Ejemplo: Entrada: 50 ohmios, 2 amperios; Salida esperada: 200 vatios.\n",
        "\n",
        "**Algoritmo**\n",
        "\n",
        "inicio\n",
        "\n",
        "*1. Declarar las variables: como float o real*\n",
        "* res: Es la resistencia\n",
        "* i: Esta variable representa la Corriente\n",
        "* pot: Esta sera la potencia disipada\n",
        "2. Con el display mostramos al usuario lo que debe ingresar :\n",
        "* \"Ingrese el valor de la resistencia en ohmios:\"\n",
        "\n",
        "3. Para almacenar la variable usamos el input para la variable:\n",
        "* res\n",
        "\n",
        "4. Con el display mostramos al usuario lo que debe ingresar:\n",
        "* \"Ingrese el valor de la corriente:\"\n",
        "\n",
        "5. Para almacenar la variable usamos el input\n",
        "* para la variable: i\n",
        "\n",
        "6. Calcular la potencia disipada en una variable teniendo en cuenta la fórmula que brinda el ejercicio:\n",
        "* pot\n",
        "\n",
        "7. mostramos el resultado con un mensaje para que el usuario sepa que valor le estamos proporcionando\n",
        "\n",
        "* \"La potencia de disipación en el circuito es:\" , pot\n",
        "\n",
        "Fin del programa\n",
        "\n",
        "```\n",
        "program potencia\n",
        "\n",
        "start\n",
        "  declare real res\n",
        "  declare real i\n",
        "  declare real pot\n",
        "\n",
        "    display \"Ingrese el valor de la resistencia en ohmios:\"\n",
        "    input res\n",
        "    display \"Ingrese el valor de la corriente en amperios:\"\n",
        "    input i\n",
        "    \n",
        "    set Pot= i^2 * res\n",
        "\n",
        "    display \"La potencia de disipacion en el circuito es:\", pot , \"vatios\"\n",
        "\n",
        "end\n",
        "```\n",
        "\n",
        "\n"
      ],
      "metadata": {
        "id": "vFok_6TdEbPV"
      }
    },
    {
      "cell_type": "code",
      "source": [
        "#creamos una variable que almacene la resistencia\n",
        "#Y otra que guarde la corriente\n",
        "res=float(input(\"Ingrese el valor de la resistencia en ohmios:\"))\n",
        "i=float(input(\"Ingrese el valor de la corriente en amperios:\"))\n",
        "#En una variable calculamos la potencia de disipacion en el circuito\n",
        "\n",
        "pot= i**2 * res\n",
        "#mostramos el resultado\n",
        "print (\"La potencia de disipacion en el circuito es:\", pot , \"vatios\")"
      ],
      "metadata": {
        "colab": {
          "base_uri": "https://localhost:8080/"
        },
        "id": "yYEaBuufJ3w9",
        "outputId": "d732c616-386c-4975-b3fd-aadde0f5e5b7"
      },
      "execution_count": null,
      "outputs": [
        {
          "output_type": "stream",
          "name": "stdout",
          "text": [
            "Ingrese el valor de la resistencia en ohmios:50\n",
            "Ingrese el valor de la corriente en amperios:2\n",
            "La potencia de disipacion en el circuito es: 200.0 vatios\n"
          ]
        }
      ]
    },
    {
      "cell_type": "markdown",
      "source": [
        "# Problema 3\n",
        "Calcular la corriente eléctrica en una resistencia.\n",
        "Descripción: Escribe un algoritmo que tome como entrada el valor de la tensión (𝑉) en voltios y el valor de la resistencia (𝑅) en ohmios, y calcule la corriente eléctrica (𝐼) que circula por a través de ella utilizando la ley de Ohm **𝑉 = 𝑅𝐼**\n",
        "\n",
        "**Resultado:** La corriente eléctrica en una resistencia.\n",
        "Entradas: El valor de la tensión en voltios y el valor de la resistencia en\n",
        "\n",
        "*  Entradas: El valor de la tensión en voltios y el valor de la resistencia en ohmios.\n",
        "\n",
        "**Ejemplo:** Entrada: 12 voltios, 4 ohmios; Salida esperada: 3 amperios.\n",
        "\n",
        "**Algoritmo**\n",
        "\n",
        "Inicio\n",
        "\n",
        "1. Declarar las variables:\n",
        "\n",
        "* volt: Variable para la tensión\n",
        "* rest: Representa la resistencia\n",
        "* corrit: corriente\n",
        "2. Con el display mostramos al usuario lo que debe ingresar:\n",
        "* \"Ingrese el valor de la tensión:\"\n",
        "3. Para almacenar la variable usamos el input\n",
        "* para la variable:  volt\n",
        "4. Con el display mostramos al usuario lo que debe ingresar:\n",
        "* \"Ingrese el valor de su resistencia:\"\n",
        "5. Para almacenar la variable usamos el input\n",
        "* Para la variable: rest\n",
        "6. Calcular la corriente eléctrica utilizando la formula del problema:\n",
        "7. Mostrar el resultado, puedes usar el siguiente mensaje con el display\n",
        "* \"La corriente eléctrica de la resistencia es:\", corrit \"A\"\n",
        "\n",
        "Fin del programa\n",
        "\n",
        "```\n",
        "program c_de_resistencia\n",
        "start\n",
        "\n",
        " declare real volt\n",
        " declare real rest\n",
        " declare real corrit\n",
        "  \n",
        "    display \"Ingrese el valor de la tensión en voltios:\"\n",
        "    input volt\n",
        "    display \"Ingrese el valor su resistencia en ohmios: \"\n",
        "    input rest\n",
        "\n",
        "    set corrit= volt/ rest\n",
        "\n",
        "    display \"La corriente eléctrica de la resistencia es: \", corrit, \"A\"\n",
        "end\n",
        "```\n"
      ],
      "metadata": {
        "id": "qbxdDch8EbaX"
      }
    },
    {
      "cell_type": "code",
      "source": [
        "#creamos una variable para el el usuario ingrese el valor de la tension\n",
        "#Y otra para el valor de la resistencia\n",
        "volt=float(input(\"Ingrese el valor de la tensión en voltios:\"))\n",
        "rest=float(input(\"Ingrese el valor de la resistencia:\"))\n",
        "#realizamos el proceso para calcular la corriente electrica\n",
        "corrit= volt/ rest\n",
        "\n",
        "print(\"La corriente eléctrica de la resistencia es: \", corrit, \" A\")\n"
      ],
      "metadata": {
        "colab": {
          "base_uri": "https://localhost:8080/"
        },
        "id": "Lj0qNgHhWKCC",
        "outputId": "9833a856-ff4c-4593-ea46-51b7de9190d1"
      },
      "execution_count": null,
      "outputs": [
        {
          "output_type": "stream",
          "name": "stdout",
          "text": [
            "Ingrese el valor de la tensión en voltios:12\n",
            "Ingrese el valor de la resistencia:4\n",
            "La corriente eléctrica de la resistencia es:  3.0  A\n"
          ]
        }
      ]
    },
    {
      "cell_type": "markdown",
      "source": [
        "# Problema 4\n",
        "Calcular la constante de tiempo en un circuito RC.\n",
        "\n",
        "**Descripción:** Desarrolla un algoritmo que tome como entrada el valor de la resistencia (𝑅) en ohmios y el valor de la capacitancia (𝐶), y calcule la constante de tiempo (𝜏) en un circuito RC utilizando la fórmula\n",
        "**𝜏 = 𝑅𝐶.**\n",
        "**Resultado:** La capacitancia del capacitor en faradios.\n",
        "**Entradas:** El valor de la resistencia en ohmios y el valor del tiempo de carga en segundos.\n",
        "Ejemplo: Entrada: 100 ohmios, 0.0005 faradios; Salida esperada: 0.05\n",
        "\n",
        "*   Ejemplo: Entrada: 100 ohmios, 0.0005 faradios; Salida esperada: 0.05 segundos.\n",
        "\n",
        "**Algoritmo**\n",
        "\n",
        "Inicio\n",
        "\n",
        "1. Declarar las variables como float o real:\n",
        "\n",
        "* rest: Es resistencia\n",
        "* capact: Capacitancia que el usuario ingresa\n",
        "* tiemp: Constante de tiempo en segundos\n",
        "\n",
        "2. Con el display mostramos al usuario lo que debe ingresar:\n",
        "* \"Ingrese el valor de la resistencia\"\n",
        "3. Para almacenar la variable usamos el input\n",
        "* variable:  rest\n",
        "4. Con el display mostramos al usuario lo que debe ingresar:\n",
        "* \"Ingrese el valor de la capacitancia:\"\n",
        "5. Para almacenar la variable usamos el input\n",
        "* varible: capact\n",
        "6. Calcular la constante de tiempo del circuito usando la fórmula:\n",
        "\n",
        "7. Mostrar el resultado con un mensaje para que el ususario tenga seguradad del resultado\n",
        "* \"La constante de tiempo del circuito es:\", tiemp \"s\"\n",
        "\n",
        "Fin del programa\n",
        "```\n",
        "program c_tiempo\n",
        "start\n",
        "  declare real rest\n",
        "  declare real capact\n",
        "  declare real tiemp\n",
        "\n",
        "     display  \"Ingrese el valor de la resistencia en ohmios:\"\n",
        "     input rest\n",
        "     display \"Ingrese el valor de la capacitancia en faradios:\"\n",
        "     input capact\n",
        "\n",
        "    tiemp= rest*capact\n",
        "\n",
        "    display \"La constante de tiempo del circuito es: \", tiemp , \" s\"\n",
        "end\n",
        "```"
      ],
      "metadata": {
        "id": "AdoxEzADiByS"
      }
    },
    {
      "cell_type": "code",
      "source": [
        "#creamos una variable que indique el valor de la resistencia\n",
        "rest=float(input(\"Ingrese el valor de la resistencia en ohmios:\"))\n",
        "#otra variable para el valor de la capacitancia\n",
        "capact=float(input(\"Ingrese el valor de la capacitancia en faradios:\"))\n",
        "#con una variable que calcule el tiempo\n",
        "tiemp= rest*capact\n",
        "#mostramos el resultado\n",
        "print(\"La constante de tiempo del circuito es: \", tiemp , \" s\")"
      ],
      "metadata": {
        "colab": {
          "base_uri": "https://localhost:8080/"
        },
        "id": "m5aewf-knLpD",
        "outputId": "be440e7a-10dd-4918-85ce-b3cb58e53fb6"
      },
      "execution_count": null,
      "outputs": [
        {
          "output_type": "stream",
          "name": "stdout",
          "text": [
            "Ingrese el valor de la resistencia en ohmios:100\n",
            "Ingrese el valor de la capacitancia en faradios:0.0005\n",
            "La constante de tiempo del circuito es:  0.05  s\n"
          ]
        }
      ]
    },
    {
      "cell_type": "markdown",
      "source": [
        "# Problema 5\n",
        "\n",
        "Calcular el consumo de energía en un periodo de tiempo a partir de las potencias promedios.\n",
        "\n",
        "**Descripción:** Desarrolla un algoritmo que tome como entrada un número de horas (𝑛) y 𝑛 valores de potencia promedio por hora en 𝑘𝑊ℎ\n",
        "\n",
        "para calcular la energía total consumida en el periodo indicado. Para este caso, la energía consumida cada hora tiene el mismo valor de la potencia promedio por hora, y la energía total es la sumatoria de estas.\n",
        "Resultado: La energía total consumida en el periodo indicado.\n",
        "\n",
        "**Entradas:** La duración del periodo en horas y las potencias promedio por hora.\n",
        "\n",
        "*   **Ejemplo:** Entrada: 4 horas, 25, 25, 50, 100; Salida esperada: 200 kWh.\n",
        "\n",
        "**Algoritmo**\n",
        "\n",
        "Inicio\n",
        "1. Declarar las variables como float o real:\n",
        "* p_prom1: representa la potencia promedio en la primera hora\n",
        "* p_prom2: Es la potencia promedio en la segunda hora\n",
        "* p_prom3: corresponde a la potencia promedio en la tercera hora\n",
        "* p_prom4: Potencia promedio en la cuarta hora\n",
        "* e_total: Valor del proceso Energía total\n",
        "\n",
        "2. Con el display mostramos al usuario lo que debe ingresar:\n",
        "* \"Ingrese la potencia promedio en la primera hora:\"\n",
        "3. Para almacenar el valor usamos el input:\n",
        "* para la variable: p_prom1\n",
        "4. Con el display mostramos al usuario lo que debe ingresar:\n",
        "* \"Ingrese la potencia promedio en la segunda hora:\"\n",
        "5. Para almacenar el valor usamos el input:\n",
        "* p_prom2\n",
        "6. Con el display mostramos al usuario lo que debe ingresar:\n",
        "* \"Ingrese la potencia promedio en la tercera hora:\"\n",
        "7. Para almacenar el valor usamos el input:  \n",
        "* p_prom3\n",
        "8. Con el display mostramos al usuario lo que debe ingresar:\n",
        " * \"Ingrese la potencia promedio en la cuarta hora:\"\n",
        "9. Para almacenar el valor usamos el input:\n",
        "* p_prom4\n",
        "10. Calcular la energía total consumida sumando todas las potencias :\n",
        "\n",
        "11. Mostrar el resultado con un display\n",
        "\n",
        "Fin del programa\n",
        "```\n",
        "program c_energia\n",
        "start\n",
        "  declare real p_prom1\n",
        "  declare real p_prom2\n",
        "  declare real p_prom3\n",
        "  declare real p_prom4\n",
        "\n",
        "   display \"ingrese la potencia promedio en la primera hora: \"\n",
        "   input p_prom1\n",
        "   display \"ingrese la potencia promedio en la segunda hora: \"\n",
        "   input p_prom2\n",
        "   display \"ingrese la potencia promedio en la tercera hora: \"\n",
        "   input p_prom3\n",
        "   display \"ingrese la potencia promedio en la cuarta hora: \"\n",
        "   input p_prom4\n",
        "   set e_total= p_prom1 + p_prom2+ p_prom3 + p_prom4\n",
        "   display \"la energia consumida en 4 horas fue de:\" , e_total\n",
        "   end\n",
        "```\n",
        "\n"
      ],
      "metadata": {
        "id": "uFXKmdPbkLjN"
      }
    },
    {
      "cell_type": "code",
      "source": [
        "#creamos las variables para que el usuario ingrese\n",
        "#la potencia promedio en las diferentes horas\n",
        "p_prom1=float(input(\"ingrese la potencia promedio en la primera hora: \"))\n",
        "p_prom2=float(input(\"ingrese la potencia promedio en la segunda hora: \"))\n",
        "p_prom3=float(input(\"ingrese la potencia promedio en la tercera hora: \"))\n",
        "p_prom4=float(input(\"ingrese la potencia promedio en la cuarta hora: \"))\n",
        "#calculamos el total de energia consumida\n",
        "e_total= p_prom1 + p_prom2+ p_prom3 + p_prom4\n",
        "print(\"la energia consumida en 4 horas fue de: \", e_total)\n"
      ],
      "metadata": {
        "id": "iMazJiQmBX9i",
        "colab": {
          "base_uri": "https://localhost:8080/"
        },
        "outputId": "a7000cd4-2efb-4597-f236-f442ceb89623"
      },
      "execution_count": 1,
      "outputs": [
        {
          "output_type": "stream",
          "name": "stdout",
          "text": [
            "ingrese la potencia promedio en la primera hora: 25\n",
            "ingrese la potencia promedio en la segunda hora: 25\n",
            "ingrese la potencia promedio en la tercera hora: 50\n",
            "ingrese la potencia promedio en la cuarta hora: 100\n",
            "la energia consumida en 4 horas fue de:  200.0\n"
          ]
        }
      ]
    }
  ]
}