{
  "cells": [
    {
      "cell_type": "markdown",
      "metadata": {
        "id": "view-in-github",
        "colab_type": "text"
      },
      "source": [
        "<a href=\"https://colab.research.google.com/github/vatval/fundprog_202510/blob/main/Ejercicios_EstructurasSelectivas.ipynb\" target=\"_parent\"><img src=\"https://colab.research.google.com/assets/colab-badge.svg\" alt=\"Open In Colab\"/></a>"
      ]
    },
    {
      "cell_type": "markdown",
      "source": [
        "# Integrantes\n",
        "\n",
        "- Danna Montalvo\n",
        "\n",
        "**id:** 576375\n",
        "\n",
        "**correo:** danna.montalvo@upb.edu.co\n",
        "\n",
        "**cel:** 314 7504166\n",
        "- Valery Agresott\n",
        "\n",
        "**id:** 574797\n",
        "\n",
        "**correo:** valery.agresott@upb.edu.co\n",
        "\n",
        "**cel:** 3044673125\n",
        "\n",
        "- Samuel Hernandez\n",
        "\n",
        "**id:** 571565\n",
        "\n",
        "**correo:** samuel.hernandeza@upb.edu.co\n",
        "\n",
        "**cel:** 3043171828\n",
        "\n",
        "- Sebastian Leon\n",
        "\n",
        "**id:** 572924\n",
        "\n",
        "**correo:**\n",
        "\n",
        "**cel:** 3116321347\n",
        "\n"
      ],
      "metadata": {
        "id": "F2xj9gIAAF6k"
      }
    },
    {
      "cell_type": "markdown",
      "source": [
        "# 1. Números Romanos\n",
        "Diseña un programa que solicite al usuario ingresar un número dentro del rango de 1 a 10. El programa debe mostrar la versión en números romanos de ese número.\n",
        "* Si el número está fuera del rango de 1 a 10, el programa debe mostrar un mensaje de error.\n",
        "\n",
        "```\n",
        "  program num_romano\n",
        "\n",
        "  Start\n",
        "    Declare int num\n",
        "    Display \"ingrese un numero entero que este en un rango de 1 a 10\"\n",
        "    input num\n",
        "      select num\n",
        "          Case 1:\n",
        "            Display \"el numero ingresado en numero romano es: I \"\n",
        "          Case 2:\n",
        "            Display \"el numero ingresado en numero romano es: II\"\n",
        "          Case 3:\n",
        "            Display \"el numero ingresado en numero romano es: III\"\n",
        "          Case 4:\n",
        "            Display \"el numero ingresado en numero romano es: IV\"\n",
        "          Case 5:\n",
        "            Display \"el numero ingresado en numero romano es: V\"\n",
        "          Case 6:\n",
        "            Display \"el numero ingresado en numero romano es: VI\"\n",
        "          Case 7:\n",
        "            Display \"el numero ingresado en numero romano es: VII\"\n",
        "          Case 8:\n",
        "            Display \"el numero ingresado en numero romano es: VIII\"\n",
        "          Case 9:\n",
        "            Display \"el numero ingresado en número romano es: IX\"\n",
        "          Case 10:\n",
        "            Display \"el numero ingresado en numero romano es: X \"\n",
        "          default:\n",
        "            Display \"el numero esta fuera del rango o es entero\"\n",
        "\n",
        "        End select\n",
        "    end if\n",
        "  End\n",
        "\n",
        "\n",
        "```"
      ],
      "metadata": {
        "id": "qJm4jCJ4YZz9"
      }
    },
    {
      "cell_type": "code",
      "source": [
        "num=float(input(\"ingrese un numero entero que este en un rango de 1 a 10: \"))\n",
        "\n",
        "match num:\n",
        "  case 1:\n",
        "    print(\"el numero ingresado en numero romano es: I \")\n",
        "  case 2:\n",
        "    print(\"el numero ingresado en numero romano es: II\")\n",
        "  case 3:\n",
        "    print(\"el nuero ingresado en numero romano es: III\")\n",
        "  case 4:\n",
        "    print(\"el numero ingresado en numero romano es: IV\")\n",
        "  case 5:\n",
        "    print(\"el numero ingresado en numero romano es: V\")\n",
        "  case 6:\n",
        "    print(\"el numero ingresado en numero romano es: VI\")\n",
        "  case 7:\n",
        "    print(\"el numero ingresado en numero romano es: VII\")\n",
        "  case 8:\n",
        "      print(\"el numero ingresado en numero romano es: VIII\")\n",
        "  case 9:\n",
        "    print(\"el numero ingresado en número romano es: IX\")\n",
        "  case 10:\n",
        "    print(\"el numero ingresado en numero romano es: X \")\n",
        "  case _:\n",
        "    print(\"el numero esta fuera del rango o es entero\")\n"
      ],
      "metadata": {
        "id": "z2enW5b0exJO",
        "outputId": "0ab86313-59eb-4fe3-92ba-a2e9d7f20b6c",
        "colab": {
          "base_uri": "https://localhost:8080/"
        }
      },
      "execution_count": null,
      "outputs": [
        {
          "output_type": "stream",
          "name": "stdout",
          "text": [
            "ingrese un numero entero que este en un rango de 1 a 10: 3\n",
            "el nuero ingresado en numero romano es: III\n"
          ]
        }
      ]
    },
    {
      "cell_type": "markdown",
      "source": [
        "# 2. Áreas de Rectángulos\n",
        "El área de un rectángulo se calcula multiplicando su longitud por su ancho. Diseña un programa que solicite la longitud y el ancho de dos rectángulos. El programa debe informar al usuario cuál de los rectángulos tiene un área mayor o si ambas áreas son iguales.\n",
        "\n",
        "```\n",
        "  Program_area_rectangulo\n",
        "\n",
        "  Start\n",
        "\n",
        "      Declarar Real longitud1, ancho1, longitud2, ancho2, area1, area2\n",
        "\n",
        "      Display \"Ingresar la longitud del rectángulo 1\"\n",
        "      Input longitud1\n",
        "      Display\"Ingresar el ancho del rectángulo 1\"\n",
        "      Input ancho1\n",
        "\n",
        "      Display\"Ingresar la longitud del rectángulo 2\"\n",
        "      Input longitud2\n",
        "      Display\"Ingresar el ancho del rectángulo 2\"\n",
        "      Input ancho2\n",
        "\n",
        "    set area1 = longitud1 * ancho1\n",
        "    set area2 = longitud2 * ancho2\n",
        "\n",
        "      if area1 > area2 then\n",
        "          Dispaly \"El rectángulo 1 tiene un área mayor:\", area1\n",
        "      else if area2 > area1 then\n",
        "          Display \"El rectángulo 2 tiene un área mayor:\", area2\n",
        "      else\n",
        "          Display \"Ambos rectángulos tienen la misma área.\"\n",
        "      end if\n",
        "\n",
        "  End\n",
        "```"
      ],
      "metadata": {
        "id": "jMOYbg83hs9j"
      }
    },
    {
      "cell_type": "code",
      "source": [
        "longitud1=float(input(\"ingrese la longitud del rectangulo 1: \"))\n",
        "ancho1=float(input(\"ingrese el ancho del rectangulo 1: \"))\n",
        "longitud2=float(input(\"ingrese la longitud del rectangulo 2: \"))\n",
        "ancho2=float(input(\"ingrese el ancho del rectangulo 2: \"))\n",
        "area1= longitud1 * ancho1\n",
        "area2= longitud2 * ancho2\n",
        "if area1 > area2:\n",
        "  print(\"El rectángulo 1 tiene un área mayor:\", area1)\n",
        "elif area2 > area1:\n",
        "  print(\"El rectángulo 2 tiene un área mayor:\", area2)\n",
        "else:\n",
        "  print(\"Ambos rectángulos tienen la misma área.\")\n",
        "\n"
      ],
      "metadata": {
        "id": "r6ynjcyVQQ2V"
      },
      "execution_count": null,
      "outputs": []
    },
    {
      "cell_type": "markdown",
      "source": [
        "# 3. Masa y Peso\n",
        "Los científicos miden la masa de un objeto en kilogramos y su peso en Newtons. Si conoces la cantidad de masa de un objeto, puedes calcular su peso en Newtons con la siguiente fórmula:\n",
        "\n",
        "𝑤𝑒𝑖𝑔ℎ𝑡 = 𝑚𝑎𝑠𝑠 × 9.8\n",
        "\n",
        "Diseña un programa que solicite al usuario ingresar la masa de un objeto y luego calcule su peso. Si el objeto pesa más de 1,000 Newtons, muestra un mensaje indicando que es demasiado pesado. Si el objeto pesa menos de 10 Newtons, muestra un mensaje indicando que es demasiado ligero.\n",
        "\n",
        "```\n",
        "  program peso\n",
        "  start\n",
        "  Declare real masa\n",
        "  Declare real peso\n",
        "  Display \"ingrese la cantidad de masa\"\n",
        "  input masa\n",
        "  set peso= masa * 9.8\n",
        "\n",
        "  if peso >= 1000 then\n",
        "    Display \"el objeto es muy pesado\"\n",
        "  else if peso<= 10 then\n",
        "    Display \"el objeto es ligero\"\n",
        "  else\n",
        "    Display \"el valor esta entre 10 y 1000\"\n",
        "  end if\n",
        "  end\n",
        "```"
      ],
      "metadata": {
        "id": "gsiltTGAhyS-"
      }
    },
    {
      "cell_type": "code",
      "source": [
        "masa = float(input(\"ingrese la cantidad de masa: \"))\n",
        "peso = masa * 9.8\n",
        "\n",
        "if peso >= 1000:\n",
        "  print(\"el objeto es muy pesado\")\n",
        "elif peso<= 10:\n",
        "  print(\"el objeto es ligero\")\n",
        "else:\n",
        "  print(\"el objeto pesa entre 10 y 1000\")"
      ],
      "metadata": {
        "colab": {
          "base_uri": "https://localhost:8080/"
        },
        "id": "1QEtzhI2kt-0",
        "outputId": "1eaf7d50-f518-464a-d029-34f8577f01c2"
      },
      "execution_count": null,
      "outputs": [
        {
          "output_type": "stream",
          "name": "stdout",
          "text": [
            "ingrese la cantidad de masa: 1\n",
            "el objeto es ligero\n"
          ]
        }
      ]
    },
    {
      "cell_type": "markdown",
      "source": [
        "4. Fechas Mágicas\n",
        "La fecha 10 de junio de 1960 es especial porque cuando se escribe en el siguiente formato, el mes multiplicado por el día es igual al año:\n",
        "                             6/10/60\n",
        "\n",
        "Diseña un programa que solicite al usuario ingresar un mes (en formato numérico), un día y un año de dos dígitos. El programa debe determinar si el mes multiplicado por el día es igual al año. Si es así,debe mostrar un mensaje diciendo que la fecha es mágica. De lo contrario, debe mostrar un mensaje indicando que la fecha no es mágica.\n",
        "```\n",
        "  program fecha\n",
        "\n",
        "  start\n",
        "  \n",
        "    Declare real dia\n",
        "    Declare real año\n",
        "    Declare real mes\n",
        "    Display \"ingrese el mes\"\n",
        "    input mes\n",
        "    Display \"ingrese un dia del año\"\n",
        "    input dia\n",
        "    Display \"ingrese el año en dos digitos\"\n",
        "    input año\n",
        "    set magic= dia*mes\n",
        "\n",
        "    if magic==año then\n",
        "      Display \"la fecha es magica\"\n",
        "    else\n",
        "      Display \"la fecha no es magica\"\n",
        "    end if\n",
        "  end\n",
        "```"
      ],
      "metadata": {
        "id": "SQn8nAN3k3x3"
      }
    },
    {
      "cell_type": "code",
      "source": [
        "mes=float(input(\"ingrese el mes: \"))\n",
        "dia=float(input(\"ingrese un dia del año: \"))\n",
        "año=float(input(\"ingrese el año en dos digitos: \"))\n",
        "magic= dia*mes\n",
        "if magic==año:\n",
        "  print(\"la fecha es magica\")\n",
        "else:\n",
        "  print(\"la fecha no es magica\")\n"
      ],
      "metadata": {
        "id": "as4JhaN3l01k"
      },
      "execution_count": null,
      "outputs": []
    },
    {
      "cell_type": "markdown",
      "source": [
        "# 5. Mezclador de Colores\n",
        "\n",
        "Los colores rojo, azul y amarillo son conocidos como colores primarios porque no se pueden obtener\n",
        "mezclando otros colores. Cuando mezclas dos colores primarios, obtienes un color secundario, como\n",
        "se muestra aquí:\n",
        "\n",
        "- Cuando mezclas rojo y azul, obtienes púrpura.\n",
        "- Cuando mezclas rojo y amarillo, obtienes naranja.\n",
        "- Cuando mezclas azul y amarillo, obtienes verde.\n",
        "\n",
        "Diseña un programa que solicite al usuario ingresar los nombres de dos colores primarios para mezclarlos. Si el usuario ingresa algo diferente a \"rojo\", \"azul\" o \"amarillo\", el programa debe mostrar un mensaje de error. De lo contrario, el programa debe mostrar el nombre del color secundario resultante.\n",
        "```\n",
        "program  mezcla\n",
        "\n",
        "  start\n",
        "  Declare string color1\n",
        "  Declare string color2\n",
        "\n",
        "  Display \"ingrese un color primario\"\n",
        "  input color1\n",
        "  Display \"ingrese otro color primario\"\n",
        "  input color2\n",
        "\n",
        " if (color1 == \"rojo\") and (color2 == \"azul\") or (color1 == \"azul\") and (color2 == \"rojo\") then\n",
        "    Display \"El color al mezclar rojo y azul es púrpura\"\n",
        "  else if (color1 == \"rojo\") and (color2 == \"amarillo\") or (color1 ==\"amarillo\") and (color2 == \"rojo\") then\n",
        "    Display \"El color al mezclar rojo y amarillo es naranja\"\n",
        "  else if (color1 == \"azul\") and (color2 == \"amarillo\") or (color1 == \"amarillo\") and (color2 == \"azul\") then\n",
        "     Display \"El color azul y amarillo al mezclarlo es verde.\"\n",
        "  else\n",
        "     Display \"el color no es primario\"\n",
        "    end if\n",
        "  end if\n",
        "  \n",
        "end\n",
        "\n",
        "\n",
        "\n",
        "\n",
        "```"
      ],
      "metadata": {
        "id": "Nn0Pwh1cmysS"
      }
    },
    {
      "cell_type": "code",
      "source": [
        "color1=str(input(\"ingrese un color primario: \"))\n",
        "color2=str(input(\"ingrese otro color primario: \"))\n",
        "if (color1 == \"rojo\") and (color2 == \"azul\") or (color1 == \"azul\") and (color2 == \"rojo\"):\n",
        "  print(\"El color al mezclar rojo y azul es púrpura\")\n",
        "elif (color1 == \"rojo\") and (color2 == \"amarillo\") or (color1 == \"amarillo\") and (color2 == \"rojo\"):\n",
        "    print(\"El color al mezclar rojo y amarillo es naranja\")\n",
        "elif (color1 == \"azul\") and (color2 == \"amarillo\") or (color1 == \"amarillo\") and (color2 == \"azul\"):\n",
        "    print(\"El color azul y amarillo al mezclarlo es verde.\")\n",
        "else:\n",
        "      print(\"el color no es primario\")\n"
      ],
      "metadata": {
        "colab": {
          "base_uri": "https://localhost:8080/"
        },
        "id": "VLoGYdZiyWlT",
        "outputId": "73c03af7-3a4c-4c0a-ec4d-ebac694ebe7f"
      },
      "execution_count": null,
      "outputs": [
        {
          "output_type": "stream",
          "name": "stdout",
          "text": [
            "ingrese un color primario: amarillo\n",
            "ingrese otro color primario: azul\n",
            "El color azul y amarillo al mezclarlo es verde.\n"
          ]
        }
      ]
    },
    {
      "cell_type": "markdown",
      "source": [
        "# 6. Puntos del Club de Lectura\n",
        "\n",
        "Serendipity Booksellers tiene un club de lectura que otorga puntos a sus clientes según la cantidad de\n",
        "\n",
        "libros comprados cada mes. Los puntos se otorgan de la siguiente manera:\n",
        "- Si un cliente compra 0 libros, gana 0 puntos.\n",
        "- Si un cliente compra 1 libro, gana 5 puntos.\n",
        "- Si un cliente compra 2 libros, gana 15 puntos.\n",
        "- Si un cliente compra 3 libros, gana 30 puntos.\n",
        "- Si un cliente compra 4 o más libros, gana 60 puntos.\n",
        "\n",
        "Diseña un programa que solicite al usuario ingresar la cantidad de libros que ha comprado este mes y muestre el número de puntos otorgados.\n",
        "```\n",
        "    program club\n",
        "    start\n",
        "    declare real cant\n",
        "    display \"ingrese la cantidad de libros comprados\"\n",
        "    input cant\n",
        "\n",
        "    if cant < 0 then\n",
        "      Display \"no puede ingresar ese valor\"\n",
        "    else if cant = 0 then\n",
        "      Display \"ganas 0 puntos\"\n",
        "    else if cant =1 then\n",
        "      Display \"ganas 5 puntos\"\n",
        "    else if cant=2 then\n",
        "      Display \"ganas 15 puntos\"\n",
        "    else if cant=3 then\n",
        "      Display \"ganas 30 puntos\"\n",
        "    else if cant>=4 then\n",
        "      Display \"ganas 60 puntos\"\n",
        "    end if\n",
        "    end\n",
        "```\n"
      ],
      "metadata": {
        "id": "xFVd-TQM5lWC"
      }
    },
    {
      "cell_type": "code",
      "source": [
        "cant=float(input(\"ingrese la cantidad de libros comprados: \"))\n",
        "if cant < 0:\n",
        "  print(\"no puede ingresar ese valor\")\n",
        "elif cant == 0:\n",
        "  print(\"ganas 0 puntos\")\n",
        "elif cant ==1:\n",
        "  print(\"ganas 5 puntos\")\n",
        "elif cant==2:\n",
        "  print(\"ganas 15 puntos\")\n",
        "elif cant==3:\n",
        "  print(\"ganas 30 puntos\")\n",
        "elif cant>=4:\n",
        "  print(\"ganas 60 puntos\")\n",
        "else:\n",
        "    print(\"el valor ingresado no es valido\")\n",
        "\n"
      ],
      "metadata": {
        "colab": {
          "base_uri": "https://localhost:8080/"
        },
        "id": "nberOZ_z8zHx",
        "outputId": "4ba5d73b-a6ba-45e6-bc99-3add0ad978cf"
      },
      "execution_count": null,
      "outputs": [
        {
          "output_type": "stream",
          "name": "stdout",
          "text": [
            "ingrese la cantidad de libros comprados: 2\n",
            "ganas 15 puntos\n"
          ]
        }
      ]
    },
    {
      "cell_type": "markdown",
      "source": [
        "# 7. Ventas de Software\n",
        "Una compañía de software vende un paquete que se vende al por menor por $99. Se otorgan\n",
        "descuentos por cantidad según la siguiente tabla:\n",
        "\n",
        "- 10–19 unidades: 20% de descuento\n",
        "- 20–49 unidades: 30% de descuento\n",
        "- 50–99 unidades: 40% de descuento\n",
        "- 100 o más unidades: 50% de descuento\n",
        "\n",
        "Diseña un programa que solicite al usuario ingresar la cantidad de paquetes comprados. El programa debe mostrar el monto del descuento (si lo hay) y el monto total de la compra después del descuento.\n",
        "```\n",
        "  program vent_software\n",
        "  start\n",
        "  Declare constant int paquete = 99\n",
        "  Declare real total\n",
        "  Declare real cant\n",
        "\n",
        "  Display \"ingrese la cantidad de paquetes comprados\"\n",
        "  input cant\n",
        "\n",
        "  if (cant>= 10) and (cant<=19) then\n",
        "    set total = (cant * paquete)*0.2\n",
        "  else if (cant>= 20) and (cant<=49) then\n",
        "    set total = (cant * paquete)*0.3\n",
        "  else if (cant>= 50 ) and (cant<=99) then\n",
        "    set total = (cant * paquete)* 0.4\n",
        "  else if cant>=100 then\n",
        "    set total = (cant * paquete)* 0.5\n",
        "  else\n",
        "    Display \"esa cantidad no obtiene descuento\"\n",
        "  end if\n",
        "  \n",
        "  Display \"el total a pagar con su descuento aplicado es: \", total\n",
        "  end\n",
        "```\n"
      ],
      "metadata": {
        "id": "tu45mRjKc617"
      }
    },
    {
      "cell_type": "code",
      "source": [
        "cant=float(input(\"ingrese la cantidad de paquetes comprados: \"))\n",
        "paquete=99\n",
        "if cant>=10 and cant<=19:\n",
        "  total = (cant * paquete)*0.2\n",
        "  print(\"el total a pagar con su descuento aplicado es: \", total)\n",
        "elif cant>=20 and cant<=49:\n",
        "  total = (cant * paquete)*0.3\n",
        "  print(\"el total a pagar con su descuento aplicado es: \", total)\n",
        "elif cant>=50 and cant<=99:\n",
        "  total = (cant * paquete)* 0.4\n",
        "  print(\"el total a pagar con su descuento aplicado es: \", total)\n",
        "elif cant>=100:\n",
        "  total = (cant * paquete)* 0.5\n",
        "else:\n",
        "  print(\"el total a pagar con su descuento aplicado es: \", total)\n",
        "\n"
      ],
      "metadata": {
        "colab": {
          "base_uri": "https://localhost:8080/"
        },
        "id": "TtK_Hf0dsL47",
        "outputId": "0abb607d-ada6-421e-c32c-47143b88d20c"
      },
      "execution_count": null,
      "outputs": [
        {
          "output_type": "stream",
          "name": "stdout",
          "text": [
            "ingrese la cantidad de paquetes comprados: 10\n",
            "el total a pagar con su descuento aplicado es:  198.0\n"
          ]
        }
      ]
    },
    {
      "cell_type": "markdown",
      "source": [
        "# 8. Juego del Cambio para un Dólar\n",
        "\n",
        "Diseña un juego de contar cambio que solicite al usuario ingresar la cantidad de monedas necesarias para hacer exactamente un dólar. El programa debe pedir al usuario que ingrese la cantidad de centavos, monedas de cinco centavos, monedas de diez centavos y monedas de veinticinco centavos.\n",
        "\n",
        "Si el valor total de las monedas ingresadas es igual a un dólar, el programa debe felicitar al usuario por ganar el juego. De lo contrario, el programa debe mostrar un mensaje indicando si la cantidad ingresada fue mayor o menor que un dólar.\n",
        "```\n",
        "program juego_de_cambio\n",
        "\n",
        "start\n",
        "    Declare int centavo, cinco, diez, veinticinco\n",
        "\n",
        "    Display \"ingrese la cantidad de monedas de 1 centavo\"\n",
        "    input centavo\n",
        "    Display \"ingrese la cantidad de monedas de 5 centavos\"\n",
        "    input cinco\n",
        "    Display \"ingrese la cantidad de monedas de 10 centavos\"\n",
        "    input diez\n",
        "    Display \"ingrese la cantidad de monedas de 25 centavos\"\n",
        "    input veinticinco\n",
        "\n",
        "    set total = (centavo * 1) + (cinco * 5) + (diez * 10) + (veinticinco * 25)\n",
        "    \n",
        "    if total == 100 then\n",
        "      Display \"Logro ingresar el valor de 1 dolar.\"\n",
        "    else if total < 100 then\n",
        "      Display \"El total ingresado no equivaleal valor del dolar, es menor y corresponde a: \", total \"centavos.\"\n",
        "    else\n",
        "      Display \"El total ingresado no equivaleal valor del dolar, es mayor y corresponde a: \", total \"centavos.\"\n",
        "\n",
        "    end if\n",
        "end\n",
        "\n",
        "```"
      ],
      "metadata": {
        "id": "9UJ8OLf1w-4b"
      }
    },
    {
      "cell_type": "code",
      "source": [
        "centavo=int(input(\"ingrese la cantidad de monedas de 1 centavo: \"))\n",
        "cinco=int(input(\"ingrese la cantidad de monedas de 5 centavos: \"))\n",
        "diez=int(input(\"ingrese la cantidad de monedas de 10 centavos: \"))\n",
        "veinticinco=int(input(\"ingrese la cantidad de monedas de 25 centavos: \"))\n",
        "total = (centavo * 1) + (cinco * 5) + (diez * 10) + (veinticinco * 25)\n",
        "if total == 100:\n",
        "  print(\"Logro ingresar el valor de 1 dolar, felicitaciones.\")\n",
        "elif total < 100:\n",
        "  print(\"El total ingresado no equivaleal valor del dolar, es menor y corresponde a: \", total, \"centavos.\")\n",
        "else:\n",
        "  print(\"El total ingresado no equivaleal valor del dolar, es mayor y corresponde a: \", total, \"centavos.\")\n"
      ],
      "metadata": {
        "colab": {
          "base_uri": "https://localhost:8080/"
        },
        "id": "_6DC_9aQOCRa",
        "outputId": "11e8b0b9-70b4-4345-fbb4-c736b878f652"
      },
      "execution_count": null,
      "outputs": [
        {
          "output_type": "stream",
          "name": "stdout",
          "text": [
            "ingrese la cantidad de monedas de 1 centavo: 8\n",
            "ingrese la cantidad de monedas de 5 centavos: 0\n",
            "ingrese la cantidad de monedas de 10 centavos: 0\n",
            "ingrese la cantidad de monedas de 25 centavos: 0\n",
            "El total ingresado no equivaleal valor del dolar, es menor y corresponde a:  8 centavos.\n"
          ]
        }
      ]
    },
    {
      "cell_type": "markdown",
      "source": [
        "# 9. Cargos por Envío\n",
        "\n",
        "La Compañía de Envíos Fast Freight cobra las siguientes tarifas:\n",
        "- Peso del paquete: 2 libras o menos, tarifa:  1.10  por libra\n",
        "- Peso del paquete: Más de 2 libras, pero no más de 6 libras, tarifa:  2.20 por libra\n",
        "- Peso del paquete: Más de 6 libras, pero no más de 10 libras, tarifa: 3.70 por libra\n",
        "- Peso del paquete: Más de 10 libras, tarifa: 3.80 por libra\n",
        "\n",
        "**Diseña un programa que solicite al usuario ingresar el peso de un paquete y luego muestre los cargos por envío.**\n",
        "```\n",
        "  program cargos\n",
        "\n",
        "  start\n",
        "  Declare real peso\n",
        "  Display \"ingrese el peso del paquete\"\n",
        "  input peso\n",
        "  if peso<=2 then\n",
        "    set tarifa=1.10\n",
        "    Display \"el costo por libra es de $1.10\"\n",
        "  else if (peso >2) and (peso<=6) then\n",
        "    set tarifa= 2.20\n",
        "    Display  \"el costo por libra sera de 2.20\"\n",
        "  else if (peso > 6) and (peso <= 10) then\n",
        "    set tarifa=3.70\n",
        "    Display \"el costo por libra es de $3.70\"\n",
        "  else if peso > 10 then\n",
        "    set tarifa= 3.80\n",
        "    Display \"el costo por libra es de $3.80\"\n",
        "  end if\n",
        "\n",
        "  set costo_total= peso*tarifa\n",
        "  Display \"el costo tatal es : \", costo_total\n",
        "  end\n",
        "\n",
        "```"
      ],
      "metadata": {
        "id": "-sBCSOe_TRbf"
      }
    },
    {
      "cell_type": "code",
      "source": [
        "peso=float(input(\"ingrese el peso del producto en libras: \"))\n",
        "\n",
        "if peso <=2:\n",
        "  tarifa=1.10\n",
        "  print(\"el costo por libra es de $1.10\")\n",
        "elif peso >2 and peso <=6:\n",
        "    tarifa=2.20\n",
        "    print(\"el costo por libra es de $2.20\")\n",
        "elif peso >6 and peso <=10:\n",
        "    tarifa=3.70\n",
        "    print(\"el costo por libra es de $3.70\")\n",
        "elif peso >10:\n",
        "    tarifa=3.80\n",
        "    print(\"el costo por libra es de $3.80\")\n",
        "\n",
        "costo_total= peso*tarifa\n",
        "\n",
        "print(\"El costo total es:$\", costo_total)\n",
        "\n"
      ],
      "metadata": {
        "id": "77dKEo-KjqIg",
        "colab": {
          "base_uri": "https://localhost:8080/"
        },
        "outputId": "ae058981-9131-4f62-add4-4ea246e06b0b"
      },
      "execution_count": null,
      "outputs": [
        {
          "output_type": "stream",
          "name": "stdout",
          "text": [
            "ingrese el peso del producto en libras: 2\n",
            "el costo por libra es de $1.10\n",
            "El costo total es:$ 2.2\n"
          ]
        }
      ]
    },
    {
      "cell_type": "markdown",
      "source": [
        "# 10. Mejora del Programa de Índice de Masa Corporal\n",
        "El IMC de una persona se calcula con la siguiente fórmula:\n",
        "\n",
        "𝐼𝑀𝐶 =  (𝑤𝑒𝑖𝑔ℎ𝑡 × 703) / ℎ𝑒𝑖𝑔ℎ𝑡 ^2\n",
        "\n",
        "En la fórmula, el peso (weight) se mide en libras y la altura (height) en pulgadas. Mejora el programa para que muestre un mensaje indicando si la persona tiene un peso óptimo, si está por debajo del peso o si tiene sobrepeso. Se considera que el peso de una persona sedentaria es óptimo si su IMC está entre 18.5 y 25. Si el IMC es menor de 18.5, se considera que la persona está  por debajo del peso. Si el valor del IMC es mayor de 25, se considera que la persona tiene sobrepeso\n",
        "```\n",
        "program imc\n",
        "\n",
        "start\n",
        "    Declare Real peso, pulgadas\n",
        "\n",
        "    Display \"ingrese el peso en libras\"\n",
        "    input peso\n",
        "    Display \"ingrese la altura en pulgadas\"\n",
        "    input pulgadas\n",
        "    \n",
        "    set imc= (peso * 703) / (altura ^ 2)\n",
        "    \n",
        "    if imc < 18.5 then\n",
        "      Display \"se encuentra por debajo del peso\"\n",
        "    else if (imc >= 18.5) and (imc <= 25) then\n",
        "      Display \"su peso es optimo\"\n",
        "    else\n",
        "      Display \"sobrepeso\"\n",
        "\n",
        "    end if\n",
        "end\n",
        "```"
      ],
      "metadata": {
        "id": "ETD__0IavTve"
      }
    },
    {
      "cell_type": "code",
      "source": [
        "peso=float(input(\"ingrese el peso en libras: \"))\n",
        "altura=float(input(\"ingrese la altura en pulgadas: \"))\n",
        "imc= (peso * 703) / (altura ** 2)\n",
        "if imc < 18.5:\n",
        "  print(\"se encuentra por debajo del peso\")\n",
        "elif imc >= 18.5 and imc <= 25:\n",
        "  print(\"su peso es optimo\")\n",
        "else:\n",
        "  print(\"sobrepeso\")\n"
      ],
      "metadata": {
        "id": "OWMAmiJcHTC2"
      },
      "execution_count": null,
      "outputs": []
    },
    {
      "cell_type": "markdown",
      "source": [
        "# 11. Calculadora de Tiempo\n",
        "Diseña un programa que solicite al usuario ingresar una cantidad de segundos y funcione de la siguiente manera:\n",
        "- Hay 60 segundos en un minuto. Si la cantidad de segundos ingresada por el usuario es mayor o igual a 60, el programa debe mostrar la cantidad de minutos en esa cantidad de segundos.\n",
        "- Hay 3600 segundos en una hora. Si la cantidad de segundos ingresada por el usuario es mayor o igual a 3600, el programa debe mostrar la cantidad de horas en esa cantidad de segundos.\n",
        "\n",
        "- Hay 86400 segundos en un día.\n",
        "\n",
        "**Si la cantidad de segundos ingresada por el usuario es mayor o igual a 86400, el programa debe mostrar la cantidad de días en esa cantidad de segundos.**\n",
        "\n",
        "```\n",
        "  program calculadora_tiempo\n",
        "\n",
        "  start\n",
        "      Declare int seg, dias, horas, minutos\n",
        "\n",
        "      Display  \"Ingrese los segundos: \"\n",
        "      input seg\n",
        "\n",
        "      if seg >= 86400 then\n",
        "          dias= seg / 86400\n",
        "          Display \"Equivalente a \", dias, \" día/s.\"\n",
        "      else if seg >= 3600 then\n",
        "          horas= seg / 3600\n",
        "          Display \"Equivalente a \", dias, \" día/s.\"\n",
        "      else if  seg >= 60 then\n",
        "          minutos= seg / 60\n",
        "          Display \"Equivalente a \", minutos, \" minuto/s.\"\n",
        "      else\n",
        "          Display \"Esa cantidad es menos de un minuto.\"\n",
        "      end if\n",
        "  end\n",
        "```"
      ],
      "metadata": {
        "id": "-GvhExbt9ibm"
      }
    },
    {
      "cell_type": "code",
      "source": [
        "seg=int(input(\"Ingrese los segundos: \"))\n",
        "if seg >= 86400:\n",
        "  dias= seg / 86400\n",
        "  print(\"Equivalente a \", dias, \" día/s.\")\n",
        "elif seg >= 3600:\n",
        "    horas= seg / 3600\n",
        "    print(\"Equivalente a \", horas, \" hora/s.\")\n",
        "elif seg >= 60:\n",
        "    minutos= seg / 60\n",
        "    print(\"Equivalente a \", minutos, \" minuto/s.\")\n",
        "else:\n",
        "    print(\"Esa cantidad es menos de un minuto.\")\n"
      ],
      "metadata": {
        "colab": {
          "base_uri": "https://localhost:8080/"
        },
        "id": "xEI9KWjN_SRg",
        "outputId": "5963011c-8414-4874-85e4-6bb5025076ba"
      },
      "execution_count": null,
      "outputs": [
        {
          "output_type": "stream",
          "name": "stdout",
          "text": [
            "Ingrese los segundos: 60\n",
            "Equivalente a  1.0  minuto/s.\n"
          ]
        }
      ]
    },
    {
      "cell_type": "markdown",
      "source": [
        "# 12. Cálculo de la Factura del Servicio de Agua\n",
        "Diseña un programa que calcule el valor total a pagar en la factura de agua teniendo en cuenta que este depende del consumo en metros cúbicos (m³) y el estrato socioeconómico del usuario. El consumo se clasifica en tres bloques:\n",
        "\n",
        "- Consumo Básico: los primeros 11 m³ que se cobran a 1,000 COP por m³.\n",
        "- Consumo Complementario: de 12 a 20 m³ que se cobran a 2,000 COP por m³.\n",
        "- Consumo Suntuoso: todo consumo por encima de 20 m³ que se cobran a 3,000 COP por m³.\n",
        "\n",
        "Además, se aplican subsidios o contribuciones sobre el subtotal en función del estrato socioeconómico del usuario:\n",
        "\n",
        "- Estrato 1: subsidio del 50%.\n",
        "- Estrato 2: subsidio del 40%.\n",
        "- Estrato 3: subsidio del 15%.\n",
        "- Estrato 4: sin subsidio ni contribución.\n",
        "- Estratos 5 y 6: contribución del 20%\n",
        "```\n",
        "  program factura_agua\n",
        "\n",
        "  start\n",
        "      Declare real consumo, estrato, costo, descuento, total\n",
        "\n",
        "      Display \"Ingrese el consumo de agua (m³):\"\n",
        "      input consumo\n",
        "      Display \"Ingrese el estrato socioeconómico (del 1 al 6):\"\n",
        "      input estrato\n",
        "\n",
        "      if consumo <= 11 then\n",
        "        set costo = consumo * 1000\n",
        "      else if consumo <= 20 then\n",
        "        set costo = (11 * 1000) + ((consumo - 11) * 2000)\n",
        "      else\n",
        "        set  costo = (11 * 1000) + (9 * 2000) + ((consumo - 20) * 3000)\n",
        "      end if\n",
        "\n",
        "      if estrato = 1 then\n",
        "        set  descuento = costo * 0.50\n",
        "      else if estrato = 2 then\n",
        "        set descuento = costo * 0.40\n",
        "      else if estrato = 3 then\n",
        "        set descuento = costo * 0.15\n",
        "      else if estrato = 4 then\n",
        "        set descuento = 0\n",
        "      else if estrato >= 5 then\n",
        "        set descuento = -(costo * 0.20)\n",
        "      end if\n",
        "\n",
        "      set total = costo - descuento\n",
        "\n",
        "      Display \" El Costo base: $\", costo\n",
        "      Display \" El Ajuste (subsidio o contribución): $\", descuento\n",
        "      Display \"El total a pagar: $\", total\n",
        "  end\n",
        "```\n"
      ],
      "metadata": {
        "id": "PcTYQmFl5bZO"
      }
    },
    {
      "cell_type": "code",
      "source": [
        "consumo=float(input(\"Ingrese el consumo de agua (m³):\"))\n",
        "estrato=int(input(\"Ingrese el estrato socioeconómico (del 1 al 6):\"))\n",
        "if consumo <= 11 :\n",
        "  costo = consumo * 1000\n",
        "elif consumo <= 20 :\n",
        "  costo = (11 * 1000) + ((consumo - 11) * 2000)\n",
        "else:\n",
        "  costo = (11 * 1000) + (9 * 2000) + ((consumo - 20) * 3000)\n",
        "\n",
        "if estrato == 1:\n",
        "    descuento = costo * 0.50\n",
        "elif estrato == 2:\n",
        "    descuento = costo * 0.40\n",
        "elif estrato == 3:\n",
        "    descuento = costo * 0.15\n",
        "elif estrato == 4:\n",
        "    descuento = 0\n",
        "elif estrato >= 5:\n",
        "    descuento = -(costo * 0.20)\n",
        "\n",
        "total = costo - descuento\n",
        "print(\" El Costo base: $\", costo)\n",
        "print(\" El Ajuste (subsidio o contribución): $\", descuento)\n",
        "print(\"El total a pagar: $\", total)\n",
        "\n",
        "\n"
      ],
      "metadata": {
        "colab": {
          "base_uri": "https://localhost:8080/"
        },
        "id": "PY1AdygH7_HG",
        "outputId": "fe094111-d91a-43ea-f7a6-4e2c999485d6"
      },
      "execution_count": null,
      "outputs": [
        {
          "output_type": "stream",
          "name": "stdout",
          "text": [
            "Ingrese el consumo de agua (m³):200\n",
            "Ingrese el estrato socioeconómico (del 1 al 6):2\n",
            " El Costo base: $ 569000.0\n",
            " El Ajuste (subsidio o contribución): $ 227600.0\n",
            "El total a pagar: $ 341400.0\n"
          ]
        }
      ]
    },
    {
      "cell_type": "markdown",
      "source": [
        "# 13. Cálculo del Costo de Envío para una Empresa de Mensajería\n",
        "Diseña un programa que calcule el costo total del envío de paquetes dependiendo del peso de los\n",
        "paquetes y la distancia recorrida. Las tarifas son las siguientes:\n",
        "\n",
        "- Paquetes de hasta 5 kg: 1,500 COP por kilómetro.\n",
        "- Paquetes de 6 a 20 kg: 2,500 COP por kilómetro.\n",
        "- Paquetes mayores a 20 kg: 3,500 COP por kilómetro.\n",
        "\n",
        "**Si el envío es a una zona fuera de la ciudad, se aplica un recargo del 15% sobre el costo total del envío.**\n",
        "\n",
        "```\n",
        "  program paquete_mensajeria\n",
        "\n",
        "  start\n",
        "      Declare real peso, dist, costo_km, costo_total, recargo\n",
        "      Declare Booleano fuera_ciudad\n",
        "\n",
        "      Display \"Ingrese el peso del paquete en kilogramos (kg):\"\n",
        "      input peso\n",
        "      Display \"Ingrese la distancia del envío en kilómetros (km):\"\n",
        "      input dist\n",
        "      Display \"¿El envío es fuera de la ciudad? (true/false):\"\n",
        "      input fuera_ciudad\n",
        "\n",
        "\n",
        "      if peso <= 5 then\n",
        "        set  costo_km = 1500\n",
        "      else if peso <= 20 then\n",
        "        set  costo_km = 2500\n",
        "      else\n",
        "        set  costo_km = 3500\n",
        "      end if\n",
        "\n",
        "    set costo_total = dist * costo_km\n",
        "\n",
        "      if fuera_ciudad = true then\n",
        "          set recargo = costo_total * 0.15\n",
        "      else\n",
        "          set recargo = 0\n",
        "      end if\n",
        "\n",
        "      set costo_total = costo_total + recargo\n",
        "\n",
        "      Display \"El Costo por kilómetro: $\", costo_km\n",
        "      Display \"El Costo base del envío es : $\", costo_total - recargo\n",
        "      Display \"Recargo por envío fuera de la ciudad: $\", recargo\n",
        "      Display \"Costo total del envío: $\", costo_total\n",
        "  end\n"
      ],
      "metadata": {
        "id": "IgxEqh8k1y-H"
      }
    },
    {
      "cell_type": "code",
      "source": [
        "peso=float(input(\"Ingrese el peso del paquete en kilogramos (kg):\"))\n",
        "dist=float(input(\"Ingrese la distancia del envío en kilómetros (km):\"))\n",
        "fuera_ciudad=bool(input(\"¿El envío es fuera de la ciudad? (true/false):\"))\n",
        "if peso <= 5:\n",
        "  costo_km = 1500\n",
        "elif peso <= 20:\n",
        "  costo_km = 2500\n",
        "else:\n",
        "  costo_km = 3500\n",
        "costo_total = dist * costo_km\n",
        "if fuera_ciudad == True:\n",
        "  recargo = costo_total * 0.15\n",
        "else:\n",
        "  recargo = 0\n",
        "costo_total = costo_total + recargo\n",
        "print(\"El Costo por kilómetro: $\", costo_km)\n",
        "print(\"El Costo base del envío es : $\", costo_total - recargo)\n",
        "print(\"Recargo por envío fuera de la ciudad: $\", recargo)\n",
        "print(\"Costo total del envío: $\", costo_total)\n",
        "\n"
      ],
      "metadata": {
        "colab": {
          "base_uri": "https://localhost:8080/"
        },
        "id": "03kQoHVQ4CB9",
        "outputId": "f9fc92a8-609a-47f9-9deb-d98d2d146dad"
      },
      "execution_count": null,
      "outputs": [
        {
          "output_type": "stream",
          "name": "stdout",
          "text": [
            "Ingrese el peso del paquete en kilogramos (kg):20\n",
            "Ingrese la distancia del envío en kilómetros (km):40\n",
            "¿El envío es fuera de la ciudad? (true/false):si\n",
            "El Costo por kilómetro: $ 2500\n",
            "El Costo base del envío es : $ 100000.0\n",
            "Recargo por envío fuera de la ciudad: $ 15000.0\n",
            "Costo total del envío: $ 115000.0\n"
          ]
        }
      ]
    }
  ],
  "metadata": {
    "colab": {
      "provenance": [],
      "include_colab_link": true
    },
    "kernelspec": {
      "display_name": "Python 3",
      "name": "python3"
    }
  },
  "nbformat": 4,
  "nbformat_minor": 0
}